{
 "cells": [
  {
   "cell_type": "markdown",
   "id": "1b31aceb",
   "metadata": {},
   "source": [
    "# Fertile man semen parameters 2020 -WHO\n"
   ]
  },
  {
   "cell_type": "markdown",
   "id": "d47291fa",
   "metadata": {},
   "source": [
    "## Creando un data frame"
   ]
  },
  {
   "cell_type": "code",
   "execution_count": 1,
   "id": "39351f27",
   "metadata": {},
   "outputs": [],
   "source": [
    "#Importamos las librerias\n",
    "import pandas as pd\n",
    "import matplotlib\n",
    "import matplotlib.pyplot as plt\n",
    "import matplotlib.image as mpimg\n",
    "from scipy.stats import kstest\n",
    "from scipy.stats import anderson\n",
    "import fitter\n",
    "from fitter import Fitter, get_common_distributions, get_distributions\n",
    "import seaborn as sns"
   ]
  },
  {
   "cell_type": "code",
   "execution_count": 2,
   "id": "6a3fa932",
   "metadata": {},
   "outputs": [
    {
     "data": {
      "text/html": [
       "<div>\n",
       "<style scoped>\n",
       "    .dataframe tbody tr th:only-of-type {\n",
       "        vertical-align: middle;\n",
       "    }\n",
       "\n",
       "    .dataframe tbody tr th {\n",
       "        vertical-align: top;\n",
       "    }\n",
       "\n",
       "    .dataframe thead th {\n",
       "        text-align: right;\n",
       "    }\n",
       "</style>\n",
       "<table border=\"1\" class=\"dataframe\">\n",
       "  <thead>\n",
       "    <tr style=\"text-align: right;\">\n",
       "      <th></th>\n",
       "      <th>Publisher</th>\n",
       "      <th>Semen_Volume</th>\n",
       "      <th>Sperm_Concentration</th>\n",
       "      <th>Total_Number</th>\n",
       "      <th>Total_Motility</th>\n",
       "      <th>Progressive_Motility</th>\n",
       "      <th>Non-progressive_Motility</th>\n",
       "      <th>Immotile_Spermatozoa</th>\n",
       "      <th>Vitality</th>\n",
       "      <th>Normal_Forms</th>\n",
       "    </tr>\n",
       "  </thead>\n",
       "  <tbody>\n",
       "    <tr>\n",
       "      <th>0</th>\n",
       "      <td>Aboutorabi</td>\n",
       "      <td>3.2</td>\n",
       "      <td>27.0</td>\n",
       "      <td>86.4</td>\n",
       "      <td>35.0</td>\n",
       "      <td>20.0</td>\n",
       "      <td>15.0</td>\n",
       "      <td>65.0</td>\n",
       "      <td>NaN</td>\n",
       "      <td>NaN</td>\n",
       "    </tr>\n",
       "    <tr>\n",
       "      <th>1</th>\n",
       "      <td>Aboutorabi</td>\n",
       "      <td>0.8</td>\n",
       "      <td>136.0</td>\n",
       "      <td>108.8</td>\n",
       "      <td>47.0</td>\n",
       "      <td>35.0</td>\n",
       "      <td>12.0</td>\n",
       "      <td>53.0</td>\n",
       "      <td>NaN</td>\n",
       "      <td>NaN</td>\n",
       "    </tr>\n",
       "    <tr>\n",
       "      <th>2</th>\n",
       "      <td>Aboutorabi</td>\n",
       "      <td>2.0</td>\n",
       "      <td>71.0</td>\n",
       "      <td>142.0</td>\n",
       "      <td>49.0</td>\n",
       "      <td>42.0</td>\n",
       "      <td>7.0</td>\n",
       "      <td>51.0</td>\n",
       "      <td>NaN</td>\n",
       "      <td>NaN</td>\n",
       "    </tr>\n",
       "    <tr>\n",
       "      <th>3</th>\n",
       "      <td>Aboutorabi</td>\n",
       "      <td>1.0</td>\n",
       "      <td>35.0</td>\n",
       "      <td>35.0</td>\n",
       "      <td>50.0</td>\n",
       "      <td>28.0</td>\n",
       "      <td>22.0</td>\n",
       "      <td>50.0</td>\n",
       "      <td>NaN</td>\n",
       "      <td>NaN</td>\n",
       "    </tr>\n",
       "    <tr>\n",
       "      <th>4</th>\n",
       "      <td>Aboutorabi</td>\n",
       "      <td>2.0</td>\n",
       "      <td>46.0</td>\n",
       "      <td>92.0</td>\n",
       "      <td>51.0</td>\n",
       "      <td>28.0</td>\n",
       "      <td>33.0</td>\n",
       "      <td>49.0</td>\n",
       "      <td>NaN</td>\n",
       "      <td>NaN</td>\n",
       "    </tr>\n",
       "    <tr>\n",
       "      <th>...</th>\n",
       "      <td>...</td>\n",
       "      <td>...</td>\n",
       "      <td>...</td>\n",
       "      <td>...</td>\n",
       "      <td>...</td>\n",
       "      <td>...</td>\n",
       "      <td>...</td>\n",
       "      <td>...</td>\n",
       "      <td>...</td>\n",
       "      <td>...</td>\n",
       "    </tr>\n",
       "    <tr>\n",
       "      <th>3584</th>\n",
       "      <td>Tang</td>\n",
       "      <td>1.7</td>\n",
       "      <td>23.0</td>\n",
       "      <td>39.1</td>\n",
       "      <td>53.0</td>\n",
       "      <td>52.0</td>\n",
       "      <td>1.0</td>\n",
       "      <td>NaN</td>\n",
       "      <td>82.0</td>\n",
       "      <td>25.0</td>\n",
       "    </tr>\n",
       "    <tr>\n",
       "      <th>3585</th>\n",
       "      <td>Tang</td>\n",
       "      <td>2.5</td>\n",
       "      <td>110.0</td>\n",
       "      <td>275.0</td>\n",
       "      <td>66.0</td>\n",
       "      <td>66.0</td>\n",
       "      <td>0.0</td>\n",
       "      <td>NaN</td>\n",
       "      <td>95.0</td>\n",
       "      <td>30.0</td>\n",
       "    </tr>\n",
       "    <tr>\n",
       "      <th>3586</th>\n",
       "      <td>Tang</td>\n",
       "      <td>2.0</td>\n",
       "      <td>109.0</td>\n",
       "      <td>218.0</td>\n",
       "      <td>64.0</td>\n",
       "      <td>44.0</td>\n",
       "      <td>20.0</td>\n",
       "      <td>36.0</td>\n",
       "      <td>NaN</td>\n",
       "      <td>11.0</td>\n",
       "    </tr>\n",
       "    <tr>\n",
       "      <th>3587</th>\n",
       "      <td>Tang</td>\n",
       "      <td>6.2</td>\n",
       "      <td>96.0</td>\n",
       "      <td>595.2</td>\n",
       "      <td>39.0</td>\n",
       "      <td>29.0</td>\n",
       "      <td>10.0</td>\n",
       "      <td>61.0</td>\n",
       "      <td>NaN</td>\n",
       "      <td>7.0</td>\n",
       "    </tr>\n",
       "    <tr>\n",
       "      <th>3588</th>\n",
       "      <td>Tang</td>\n",
       "      <td>3.0</td>\n",
       "      <td>36.0</td>\n",
       "      <td>108.0</td>\n",
       "      <td>54.0</td>\n",
       "      <td>38.0</td>\n",
       "      <td>16.0</td>\n",
       "      <td>46.0</td>\n",
       "      <td>NaN</td>\n",
       "      <td>11.0</td>\n",
       "    </tr>\n",
       "  </tbody>\n",
       "</table>\n",
       "<p>3589 rows × 10 columns</p>\n",
       "</div>"
      ],
      "text/plain": [
       "       Publisher  Semen_Volume  Sperm_Concentration  Total_Number  \\\n",
       "0     Aboutorabi           3.2                 27.0          86.4   \n",
       "1     Aboutorabi           0.8                136.0         108.8   \n",
       "2     Aboutorabi           2.0                 71.0         142.0   \n",
       "3     Aboutorabi           1.0                 35.0          35.0   \n",
       "4     Aboutorabi           2.0                 46.0          92.0   \n",
       "...          ...           ...                  ...           ...   \n",
       "3584        Tang           1.7                 23.0          39.1   \n",
       "3585        Tang           2.5                110.0         275.0   \n",
       "3586        Tang           2.0                109.0         218.0   \n",
       "3587        Tang           6.2                 96.0         595.2   \n",
       "3588        Tang           3.0                 36.0         108.0   \n",
       "\n",
       "      Total_Motility  Progressive_Motility  Non-progressive_Motility  \\\n",
       "0               35.0                  20.0                      15.0   \n",
       "1               47.0                  35.0                      12.0   \n",
       "2               49.0                  42.0                       7.0   \n",
       "3               50.0                  28.0                      22.0   \n",
       "4               51.0                  28.0                      33.0   \n",
       "...              ...                   ...                       ...   \n",
       "3584            53.0                  52.0                       1.0   \n",
       "3585            66.0                  66.0                       0.0   \n",
       "3586            64.0                  44.0                      20.0   \n",
       "3587            39.0                  29.0                      10.0   \n",
       "3588            54.0                  38.0                      16.0   \n",
       "\n",
       "      Immotile_Spermatozoa  Vitality  Normal_Forms  \n",
       "0                     65.0       NaN           NaN  \n",
       "1                     53.0       NaN           NaN  \n",
       "2                     51.0       NaN           NaN  \n",
       "3                     50.0       NaN           NaN  \n",
       "4                     49.0       NaN           NaN  \n",
       "...                    ...       ...           ...  \n",
       "3584                   NaN      82.0          25.0  \n",
       "3585                   NaN      95.0          30.0  \n",
       "3586                  36.0       NaN          11.0  \n",
       "3587                  61.0       NaN           7.0  \n",
       "3588                  46.0       NaN          11.0  \n",
       "\n",
       "[3589 rows x 10 columns]"
      ]
     },
     "execution_count": 2,
     "metadata": {},
     "output_type": "execute_result"
    }
   ],
   "source": [
    "#Creamos el dataframe\n",
    "df = pd.read_csv('Fertile_Man_WHO_2020.csv')\n",
    "df"
   ]
  },
  {
   "cell_type": "code",
   "execution_count": 3,
   "id": "1032ec24",
   "metadata": {
    "scrolled": true
   },
   "outputs": [
    {
     "name": "stdout",
     "output_type": "stream",
     "text": [
      "<class 'pandas.core.frame.DataFrame'>\n",
      "RangeIndex: 3589 entries, 0 to 3588\n",
      "Data columns (total 10 columns):\n",
      " #   Column                    Non-Null Count  Dtype  \n",
      "---  ------                    --------------  -----  \n",
      " 0   Publisher                 3589 non-null   object \n",
      " 1   Semen_Volume              3586 non-null   float64\n",
      " 2   Sperm_Concentration       3587 non-null   float64\n",
      " 3   Total_Number              3584 non-null   float64\n",
      " 4   Total_Motility            3488 non-null   float64\n",
      " 5   Progressive_Motility      3389 non-null   float64\n",
      " 6   Non-progressive_Motility  3387 non-null   float64\n",
      " 7   Immotile_Spermatozoa      2800 non-null   float64\n",
      " 8   Vitality                  1337 non-null   float64\n",
      " 9   Normal_Forms              3335 non-null   float64\n",
      "dtypes: float64(9), object(1)\n",
      "memory usage: 280.5+ KB\n"
     ]
    }
   ],
   "source": [
    "#Obtenemos la informacion general del dataframe\n",
    "df.info()"
   ]
  },
  {
   "cell_type": "markdown",
   "id": "81a5004e",
   "metadata": {},
   "source": [
    "### Optamos por eliminar la columna de Vitality puesto que tiene un alto número de nulos "
   ]
  },
  {
   "cell_type": "code",
   "execution_count": 4,
   "id": "39dba83b",
   "metadata": {},
   "outputs": [],
   "source": [
    "df = df.drop(columns = 'Vitality')"
   ]
  },
  {
   "cell_type": "markdown",
   "id": "466a821b",
   "metadata": {},
   "source": [
    "## Optamos por llenar los valores nulos dentro de la columna Immotile_Spermatozoa con los valores que ya tenemos de Total_Motility y lo obtenemos a partir del despeje de la formula \n",
    "### 100 = Immotile_Spermatozoa + Total_Motility \n",
    "## Lo que nos deja el despeje: Immotile_Spermatozoa = Total_Motility - 100\n"
   ]
  },
  {
   "cell_type": "code",
   "execution_count": 5,
   "id": "dfff9207",
   "metadata": {
    "scrolled": true
   },
   "outputs": [
    {
     "data": {
      "text/html": [
       "<div>\n",
       "<style scoped>\n",
       "    .dataframe tbody tr th:only-of-type {\n",
       "        vertical-align: middle;\n",
       "    }\n",
       "\n",
       "    .dataframe tbody tr th {\n",
       "        vertical-align: top;\n",
       "    }\n",
       "\n",
       "    .dataframe thead th {\n",
       "        text-align: right;\n",
       "    }\n",
       "</style>\n",
       "<table border=\"1\" class=\"dataframe\">\n",
       "  <thead>\n",
       "    <tr style=\"text-align: right;\">\n",
       "      <th></th>\n",
       "      <th>Publisher</th>\n",
       "      <th>Semen_Volume</th>\n",
       "      <th>Sperm_Concentration</th>\n",
       "      <th>Total_Number</th>\n",
       "      <th>Total_Motility</th>\n",
       "      <th>Progressive_Motility</th>\n",
       "      <th>Non-progressive_Motility</th>\n",
       "      <th>Immotile_Spermatozoa</th>\n",
       "      <th>Normal_Forms</th>\n",
       "    </tr>\n",
       "  </thead>\n",
       "  <tbody>\n",
       "    <tr>\n",
       "      <th>0</th>\n",
       "      <td>Aboutorabi</td>\n",
       "      <td>3.2</td>\n",
       "      <td>27.0</td>\n",
       "      <td>86.4</td>\n",
       "      <td>35.0</td>\n",
       "      <td>20.0</td>\n",
       "      <td>15.0</td>\n",
       "      <td>65.0</td>\n",
       "      <td>NaN</td>\n",
       "    </tr>\n",
       "    <tr>\n",
       "      <th>1</th>\n",
       "      <td>Aboutorabi</td>\n",
       "      <td>0.8</td>\n",
       "      <td>136.0</td>\n",
       "      <td>108.8</td>\n",
       "      <td>47.0</td>\n",
       "      <td>35.0</td>\n",
       "      <td>12.0</td>\n",
       "      <td>53.0</td>\n",
       "      <td>NaN</td>\n",
       "    </tr>\n",
       "    <tr>\n",
       "      <th>2</th>\n",
       "      <td>Aboutorabi</td>\n",
       "      <td>2.0</td>\n",
       "      <td>71.0</td>\n",
       "      <td>142.0</td>\n",
       "      <td>49.0</td>\n",
       "      <td>42.0</td>\n",
       "      <td>7.0</td>\n",
       "      <td>51.0</td>\n",
       "      <td>NaN</td>\n",
       "    </tr>\n",
       "    <tr>\n",
       "      <th>3</th>\n",
       "      <td>Aboutorabi</td>\n",
       "      <td>1.0</td>\n",
       "      <td>35.0</td>\n",
       "      <td>35.0</td>\n",
       "      <td>50.0</td>\n",
       "      <td>28.0</td>\n",
       "      <td>22.0</td>\n",
       "      <td>50.0</td>\n",
       "      <td>NaN</td>\n",
       "    </tr>\n",
       "    <tr>\n",
       "      <th>4</th>\n",
       "      <td>Aboutorabi</td>\n",
       "      <td>2.0</td>\n",
       "      <td>46.0</td>\n",
       "      <td>92.0</td>\n",
       "      <td>51.0</td>\n",
       "      <td>28.0</td>\n",
       "      <td>33.0</td>\n",
       "      <td>49.0</td>\n",
       "      <td>NaN</td>\n",
       "    </tr>\n",
       "    <tr>\n",
       "      <th>...</th>\n",
       "      <td>...</td>\n",
       "      <td>...</td>\n",
       "      <td>...</td>\n",
       "      <td>...</td>\n",
       "      <td>...</td>\n",
       "      <td>...</td>\n",
       "      <td>...</td>\n",
       "      <td>...</td>\n",
       "      <td>...</td>\n",
       "    </tr>\n",
       "    <tr>\n",
       "      <th>3584</th>\n",
       "      <td>Tang</td>\n",
       "      <td>1.7</td>\n",
       "      <td>23.0</td>\n",
       "      <td>39.1</td>\n",
       "      <td>53.0</td>\n",
       "      <td>52.0</td>\n",
       "      <td>1.0</td>\n",
       "      <td>47.0</td>\n",
       "      <td>25.0</td>\n",
       "    </tr>\n",
       "    <tr>\n",
       "      <th>3585</th>\n",
       "      <td>Tang</td>\n",
       "      <td>2.5</td>\n",
       "      <td>110.0</td>\n",
       "      <td>275.0</td>\n",
       "      <td>66.0</td>\n",
       "      <td>66.0</td>\n",
       "      <td>0.0</td>\n",
       "      <td>34.0</td>\n",
       "      <td>30.0</td>\n",
       "    </tr>\n",
       "    <tr>\n",
       "      <th>3586</th>\n",
       "      <td>Tang</td>\n",
       "      <td>2.0</td>\n",
       "      <td>109.0</td>\n",
       "      <td>218.0</td>\n",
       "      <td>64.0</td>\n",
       "      <td>44.0</td>\n",
       "      <td>20.0</td>\n",
       "      <td>36.0</td>\n",
       "      <td>11.0</td>\n",
       "    </tr>\n",
       "    <tr>\n",
       "      <th>3587</th>\n",
       "      <td>Tang</td>\n",
       "      <td>6.2</td>\n",
       "      <td>96.0</td>\n",
       "      <td>595.2</td>\n",
       "      <td>39.0</td>\n",
       "      <td>29.0</td>\n",
       "      <td>10.0</td>\n",
       "      <td>61.0</td>\n",
       "      <td>7.0</td>\n",
       "    </tr>\n",
       "    <tr>\n",
       "      <th>3588</th>\n",
       "      <td>Tang</td>\n",
       "      <td>3.0</td>\n",
       "      <td>36.0</td>\n",
       "      <td>108.0</td>\n",
       "      <td>54.0</td>\n",
       "      <td>38.0</td>\n",
       "      <td>16.0</td>\n",
       "      <td>46.0</td>\n",
       "      <td>11.0</td>\n",
       "    </tr>\n",
       "  </tbody>\n",
       "</table>\n",
       "<p>3589 rows × 9 columns</p>\n",
       "</div>"
      ],
      "text/plain": [
       "       Publisher  Semen_Volume  Sperm_Concentration  Total_Number  \\\n",
       "0     Aboutorabi           3.2                 27.0          86.4   \n",
       "1     Aboutorabi           0.8                136.0         108.8   \n",
       "2     Aboutorabi           2.0                 71.0         142.0   \n",
       "3     Aboutorabi           1.0                 35.0          35.0   \n",
       "4     Aboutorabi           2.0                 46.0          92.0   \n",
       "...          ...           ...                  ...           ...   \n",
       "3584        Tang           1.7                 23.0          39.1   \n",
       "3585        Tang           2.5                110.0         275.0   \n",
       "3586        Tang           2.0                109.0         218.0   \n",
       "3587        Tang           6.2                 96.0         595.2   \n",
       "3588        Tang           3.0                 36.0         108.0   \n",
       "\n",
       "      Total_Motility  Progressive_Motility  Non-progressive_Motility  \\\n",
       "0               35.0                  20.0                      15.0   \n",
       "1               47.0                  35.0                      12.0   \n",
       "2               49.0                  42.0                       7.0   \n",
       "3               50.0                  28.0                      22.0   \n",
       "4               51.0                  28.0                      33.0   \n",
       "...              ...                   ...                       ...   \n",
       "3584            53.0                  52.0                       1.0   \n",
       "3585            66.0                  66.0                       0.0   \n",
       "3586            64.0                  44.0                      20.0   \n",
       "3587            39.0                  29.0                      10.0   \n",
       "3588            54.0                  38.0                      16.0   \n",
       "\n",
       "      Immotile_Spermatozoa  Normal_Forms  \n",
       "0                     65.0           NaN  \n",
       "1                     53.0           NaN  \n",
       "2                     51.0           NaN  \n",
       "3                     50.0           NaN  \n",
       "4                     49.0           NaN  \n",
       "...                    ...           ...  \n",
       "3584                  47.0          25.0  \n",
       "3585                  34.0          30.0  \n",
       "3586                  36.0          11.0  \n",
       "3587                  61.0           7.0  \n",
       "3588                  46.0          11.0  \n",
       "\n",
       "[3589 rows x 9 columns]"
      ]
     },
     "execution_count": 5,
     "metadata": {},
     "output_type": "execute_result"
    }
   ],
   "source": [
    "#probamos cuando tenemos total_motility y no contamos con Immotile_Spermatoza\n",
    "df['Immotile_Spermatozoa'] = df['Immotile_Spermatozoa'].fillna(100-df['Total_Motility'])\n",
    "#probamos cuando tenemos Immotile_Spermatoza y no contamos con total_motility. Despejando la formula\n",
    "df['Total_Motility'] = df['Total_Motility'].fillna(100-df['Immotile_Spermatozoa'])\n",
    "df"
   ]
  },
  {
   "cell_type": "markdown",
   "id": "1b2438e0",
   "metadata": {},
   "source": [
    "### Observamos que pudimos aumentar el valor de registros sin nulos en las columnas anteriores. Ahora contamos on 3489 registros en dichas columnas "
   ]
  },
  {
   "cell_type": "code",
   "execution_count": 6,
   "id": "616eb933",
   "metadata": {},
   "outputs": [
    {
     "name": "stdout",
     "output_type": "stream",
     "text": [
      "<class 'pandas.core.frame.DataFrame'>\n",
      "RangeIndex: 3589 entries, 0 to 3588\n",
      "Data columns (total 9 columns):\n",
      " #   Column                    Non-Null Count  Dtype  \n",
      "---  ------                    --------------  -----  \n",
      " 0   Publisher                 3589 non-null   object \n",
      " 1   Semen_Volume              3586 non-null   float64\n",
      " 2   Sperm_Concentration       3587 non-null   float64\n",
      " 3   Total_Number              3584 non-null   float64\n",
      " 4   Total_Motility            3489 non-null   float64\n",
      " 5   Progressive_Motility      3389 non-null   float64\n",
      " 6   Non-progressive_Motility  3387 non-null   float64\n",
      " 7   Immotile_Spermatozoa      3489 non-null   float64\n",
      " 8   Normal_Forms              3335 non-null   float64\n",
      "dtypes: float64(8), object(1)\n",
      "memory usage: 252.5+ KB\n"
     ]
    }
   ],
   "source": [
    "df.info()"
   ]
  },
  {
   "cell_type": "markdown",
   "id": "704b9d4f",
   "metadata": {},
   "source": [
    "### Recuperamos los valores de Progressive Motility y Non-progressive Motility pues sabemos que \n",
    "### Total_Motility = Progressive_Motility + Non-progressive_Motility\n",
    "### con el despeje de la formula podemos obtener valores de progressive y non-progressive motility"
   ]
  },
  {
   "cell_type": "code",
   "execution_count": 7,
   "id": "6e11e2ee",
   "metadata": {},
   "outputs": [],
   "source": [
    "df['Progressive_Motility'] = df['Progressive_Motility'].fillna(df['Total_Motility']-df['Non-progressive_Motility'])\n",
    "df['Non-progressive_Motility'] = df['Non-progressive_Motility'].fillna(df['Total_Motility']-df['Progressive_Motility'])"
   ]
  },
  {
   "cell_type": "code",
   "execution_count": 8,
   "id": "d72f55b5",
   "metadata": {},
   "outputs": [
    {
     "name": "stdout",
     "output_type": "stream",
     "text": [
      "<class 'pandas.core.frame.DataFrame'>\n",
      "RangeIndex: 3589 entries, 0 to 3588\n",
      "Data columns (total 9 columns):\n",
      " #   Column                    Non-Null Count  Dtype  \n",
      "---  ------                    --------------  -----  \n",
      " 0   Publisher                 3589 non-null   object \n",
      " 1   Semen_Volume              3586 non-null   float64\n",
      " 2   Sperm_Concentration       3587 non-null   float64\n",
      " 3   Total_Number              3584 non-null   float64\n",
      " 4   Total_Motility            3489 non-null   float64\n",
      " 5   Progressive_Motility      3389 non-null   float64\n",
      " 6   Non-progressive_Motility  3389 non-null   float64\n",
      " 7   Immotile_Spermatozoa      3489 non-null   float64\n",
      " 8   Normal_Forms              3335 non-null   float64\n",
      "dtypes: float64(8), object(1)\n",
      "memory usage: 252.5+ KB\n"
     ]
    }
   ],
   "source": [
    "df.info()"
   ]
  },
  {
   "cell_type": "code",
   "execution_count": 9,
   "id": "9a8cdf0b",
   "metadata": {},
   "outputs": [
    {
     "name": "stdout",
     "output_type": "stream",
     "text": [
      "<class 'pandas.core.frame.DataFrame'>\n",
      "Int64Index: 3132 entries, 169 to 3588\n",
      "Data columns (total 9 columns):\n",
      " #   Column                    Non-Null Count  Dtype  \n",
      "---  ------                    --------------  -----  \n",
      " 0   Publisher                 3132 non-null   object \n",
      " 1   Semen_Volume              3132 non-null   float64\n",
      " 2   Sperm_Concentration       3132 non-null   float64\n",
      " 3   Total_Number              3132 non-null   float64\n",
      " 4   Total_Motility            3132 non-null   float64\n",
      " 5   Progressive_Motility      3132 non-null   float64\n",
      " 6   Non-progressive_Motility  3132 non-null   float64\n",
      " 7   Immotile_Spermatozoa      3132 non-null   float64\n",
      " 8   Normal_Forms              3132 non-null   float64\n",
      "dtypes: float64(8), object(1)\n",
      "memory usage: 244.7+ KB\n"
     ]
    }
   ],
   "source": [
    "df=df.dropna()\n",
    "df.info()"
   ]
  },
  {
   "cell_type": "markdown",
   "id": "e83eb6d6",
   "metadata": {},
   "source": [
    "### Despues de llenar valores nulos con las formulas indicadas, eliminamos los registros en los cuales siguen existiendo valores nulos. El valor final de registros disponibles es de 3132."
   ]
  },
  {
   "cell_type": "markdown",
   "id": "97965ae5",
   "metadata": {},
   "source": [
    "## Fase 1: Exploracion "
   ]
  },
  {
   "cell_type": "markdown",
   "id": "f0a6f396",
   "metadata": {},
   "source": [
    "### Histograma de Normal_Forms para comprobar que ningun registro cuenta con un porcentaje debajo de 4%."
   ]
  },
  {
   "cell_type": "code",
   "execution_count": 10,
   "id": "70257dd6",
   "metadata": {},
   "outputs": [
    {
     "data": {
      "text/plain": [
       "1758     0.5\n",
       "1674     0.5\n",
       "2810     1.0\n",
       "634      1.0\n",
       "1666     1.0\n",
       "        ... \n",
       "973     54.0\n",
       "423     56.0\n",
       "1102    58.0\n",
       "2865    70.0\n",
       "2549    76.0\n",
       "Name: Normal_Forms, Length: 3132, dtype: float64"
      ]
     },
     "execution_count": 10,
     "metadata": {},
     "output_type": "execute_result"
    },
    {
     "data": {
      "image/png": "[encoded data removed]",
      "text/plain": [
       "<Figure size 432x288 with 1 Axes>"
      ]
     },
     "metadata": {
      "needs_background": "light"
     },
     "output_type": "display_data"
    }
   ],
   "source": [
    "df['Normal_Forms'].hist(bins=25)\n",
    "plt.title('Sperm Normal Forms')\n",
    "plt.xlabel('Normal Form in %')\n",
    "plt.ylabel('Count')\n",
    "df['Normal_Forms'].sort_values(ascending=True)"
   ]
  },
  {
   "cell_type": "markdown",
   "id": "233f0417",
   "metadata": {},
   "source": [
    "### Histograma de Sperm_concentration para comprobar que ningun registro cuenta con un porcentaje debajo de 15 millones de espermatozoides por mililitro."
   ]
  },
  {
   "cell_type": "code",
   "execution_count": 11,
   "id": "b09538c2",
   "metadata": {
    "scrolled": true
   },
   "outputs": [
    {
     "data": {
      "text/plain": [
       "263       1.0\n",
       "212       1.0\n",
       "169       2.0\n",
       "267       2.0\n",
       "476       2.0\n",
       "        ...  \n",
       "3294    448.0\n",
       "3528    480.0\n",
       "1144    489.0\n",
       "1016    528.0\n",
       "1026    532.0\n",
       "Name: Sperm_Concentration, Length: 3132, dtype: float64"
      ]
     },
     "execution_count": 11,
     "metadata": {},
     "output_type": "execute_result"
    },
    {
     "data": {
      "image/png": "[encoded data removed]",
      "text/plain": [
       "<Figure size 432x288 with 1 Axes>"
      ]
     },
     "metadata": {
      "needs_background": "light"
     },
     "output_type": "display_data"
    }
   ],
   "source": [
    "df['Sperm_Concentration'].hist(bins=25)\n",
    "plt.title('Sperm Concentration')\n",
    "plt.xlabel('Sperm concentration in millions per ml')\n",
    "plt.ylabel('Count')\n",
    "df['Sperm_Concentration'].sort_values()"
   ]
  },
  {
   "cell_type": "markdown",
   "id": "8c977d63",
   "metadata": {},
   "source": [
    "### Grafica de Progressive Motility vs Total Motility para comprobar que son variables directamente proporcional"
   ]
  },
  {
   "cell_type": "code",
   "execution_count": 12,
   "id": "83acb036",
   "metadata": {},
   "outputs": [
    {
     "data": {
      "text/plain": [
       "Text(0, 0.5, 'Total Motility')"
      ]
     },
     "execution_count": 12,
     "metadata": {},
     "output_type": "execute_result"
    },
    {
     "data": {
      "image/png": "[encoded data removed]",
      "text/plain": [
       "<Figure size 432x288 with 1 Axes>"
      ]
     },
     "metadata": {
      "needs_background": "light"
     },
     "output_type": "display_data"
    }
   ],
   "source": [
    "plt.scatter(df[\"Progressive_Motility\"], df[\"Total_Motility\"])\n",
    "plt.title('Progressive Motility vs Total Motility')\n",
    "plt.xlabel('Progressive Motility')\n",
    "plt.ylabel('Total Motility')"
   ]
  },
  {
   "cell_type": "markdown",
   "id": "f3a27202",
   "metadata": {},
   "source": [
    "## Fase 2: Analisis"
   ]
  },
  {
   "cell_type": "markdown",
   "id": "3b4a8ab8",
   "metadata": {},
   "source": [
    "#### Total Motility"
   ]
  },
  {
   "cell_type": "code",
   "execution_count": 13,
   "id": "848c06b5",
   "metadata": {},
   "outputs": [
    {
     "data": {
      "text/plain": [
       "Text(0, 0.5, 'Count')"
      ]
     },
     "execution_count": 13,
     "metadata": {},
     "output_type": "execute_result"
    },
    {
     "data": {
      "image/png": "[encoded data removed]",
      "text/plain": [
       "<Figure size 432x288 with 1 Axes>"
      ]
     },
     "metadata": {
      "needs_background": "light"
     },
     "output_type": "display_data"
    }
   ],
   "source": [
    "df['Total_Motility'].hist(bins=25)\n",
    "plt.title('Total Motility')\n",
    "plt.xlabel('Total Motility in % of Sperm')\n",
    "plt.ylabel('Count')"
   ]
  },
  {
   "cell_type": "code",
   "execution_count": 14,
   "id": "aa7c26d1",
   "metadata": {},
   "outputs": [
    {
     "data": {
      "text/html": [
       "<div>\n",
       "<style scoped>\n",
       "    .dataframe tbody tr th:only-of-type {\n",
       "        vertical-align: middle;\n",
       "    }\n",
       "\n",
       "    .dataframe tbody tr th {\n",
       "        vertical-align: top;\n",
       "    }\n",
       "\n",
       "    .dataframe thead th {\n",
       "        text-align: right;\n",
       "    }\n",
       "</style>\n",
       "<table border=\"1\" class=\"dataframe\">\n",
       "  <thead>\n",
       "    <tr style=\"text-align: right;\">\n",
       "      <th></th>\n",
       "      <th>Variable</th>\n",
       "      <th>Media</th>\n",
       "      <th>Varianza</th>\n",
       "      <th>Desviacion estandar</th>\n",
       "      <th>Curtosis</th>\n",
       "      <th>Simetria</th>\n",
       "    </tr>\n",
       "  </thead>\n",
       "  <tbody>\n",
       "    <tr>\n",
       "      <th>0</th>\n",
       "      <td>Total_Motility</td>\n",
       "      <td>64.013489</td>\n",
       "      <td>186.818155</td>\n",
       "      <td>13.668144</td>\n",
       "      <td>0.76701</td>\n",
       "      <td>-0.152804</td>\n",
       "    </tr>\n",
       "  </tbody>\n",
       "</table>\n",
       "</div>"
      ],
      "text/plain": [
       "         Variable      Media    Varianza  Desviacion estandar  Curtosis  \\\n",
       "0  Total_Motility  64.013489  186.818155            13.668144   0.76701   \n",
       "\n",
       "   Simetria  \n",
       "0 -0.152804  "
      ]
     },
     "execution_count": 14,
     "metadata": {},
     "output_type": "execute_result"
    }
   ],
   "source": [
    "df_descrp = pd.DataFrame() # crear un dataframe para agregar estadisticas descriptivas\n",
    "df_descrp['Variable'] = [\"Total_Motility\"]\n",
    "df_descrp['Media'] = [df[\"Total_Motility\"].mean()]\n",
    "df_descrp['Varianza'] = [df[\"Total_Motility\"].var()]\n",
    "df_descrp['Desviacion estandar'] = [df[\"Total_Motility\"].std()]\n",
    "df_descrp['Curtosis'] = [df[\"Total_Motility\"].kurtosis()]\n",
    "df_descrp['Simetria'] = [df[\"Total_Motility\"].skew()]\n",
    "df_descrp"
   ]
  },
  {
   "cell_type": "code",
   "execution_count": 15,
   "id": "552feae0",
   "metadata": {},
   "outputs": [
    {
     "data": {
      "text/plain": [
       "KstestResult(statistic=0.9993297591540801, pvalue=0.0)"
      ]
     },
     "execution_count": 15,
     "metadata": {},
     "output_type": "execute_result"
    }
   ],
   "source": [
    "#ejecutar prueba Kolmogorov-Smirnov para verificar si tiene distribucion normal\n",
    "kstest(df['Total_Motility'], 'norm')"
   ]
  },
  {
   "cell_type": "markdown",
   "id": "74939138",
   "metadata": {},
   "source": [
    "### Con un valor p de 0.0 menor a 0.05 tenemos suficiente evidencia para rechazar la hipotesis nula y concluir que no contamos con una distribucion normal."
   ]
  },
  {
   "cell_type": "code",
   "execution_count": 16,
   "id": "e78ea129",
   "metadata": {},
   "outputs": [
    {
     "data": {
      "text/plain": [
       "AndersonResult(statistic=9.725964775512693, critical_values=array([0.575, 0.655, 0.786, 0.917, 1.091]), significance_level=array([15. , 10. ,  5. ,  2.5,  1. ]))"
      ]
     },
     "execution_count": 16,
     "metadata": {},
     "output_type": "execute_result"
    }
   ],
   "source": [
    "#prueba de anderson darling para verificar normalidad de los datos \n",
    "anderson(df['Total_Motility'], 'norm')"
   ]
  },
  {
   "cell_type": "markdown",
   "id": "ebd97d35",
   "metadata": {},
   "source": [
    "### Los resultados son significantes para todos los valores de alfa (0.15, 0.10, 0.05, 0.025,0.001) puesto que 9.73 es mayor para todos los valores criticos correspondientes"
   ]
  },
  {
   "cell_type": "code",
   "execution_count": 17,
   "id": "546e1216",
   "metadata": {},
   "outputs": [
    {
     "name": "stderr",
     "output_type": "stream",
     "text": [
      "Fitting 5 distributions: 100%|████████████████████| 5/5 [00:01<00:00,  2.67it/s]\n"
     ]
    },
    {
     "data": {
      "text/html": [
       "<div>\n",
       "<style scoped>\n",
       "    .dataframe tbody tr th:only-of-type {\n",
       "        vertical-align: middle;\n",
       "    }\n",
       "\n",
       "    .dataframe tbody tr th {\n",
       "        vertical-align: top;\n",
       "    }\n",
       "\n",
       "    .dataframe thead th {\n",
       "        text-align: right;\n",
       "    }\n",
       "</style>\n",
       "<table border=\"1\" class=\"dataframe\">\n",
       "  <thead>\n",
       "    <tr style=\"text-align: right;\">\n",
       "      <th></th>\n",
       "      <th>sumsquare_error</th>\n",
       "      <th>aic</th>\n",
       "      <th>bic</th>\n",
       "      <th>kl_div</th>\n",
       "      <th>ks_statistic</th>\n",
       "      <th>ks_pvalue</th>\n",
       "    </tr>\n",
       "  </thead>\n",
       "  <tbody>\n",
       "    <tr>\n",
       "      <th>lognorm</th>\n",
       "      <td>0.002509</td>\n",
       "      <td>1273.211695</td>\n",
       "      <td>-43940.750875</td>\n",
       "      <td>inf</td>\n",
       "      <td>0.052460</td>\n",
       "      <td>6.239922e-08</td>\n",
       "    </tr>\n",
       "    <tr>\n",
       "      <th>norm</th>\n",
       "      <td>0.002512</td>\n",
       "      <td>1262.084462</td>\n",
       "      <td>-43945.402750</td>\n",
       "      <td>inf</td>\n",
       "      <td>0.051936</td>\n",
       "      <td>8.795071e-08</td>\n",
       "    </tr>\n",
       "    <tr>\n",
       "      <th>gamma</th>\n",
       "      <td>0.002536</td>\n",
       "      <td>1293.235330</td>\n",
       "      <td>-43907.535642</td>\n",
       "      <td>inf</td>\n",
       "      <td>0.049725</td>\n",
       "      <td>3.605219e-07</td>\n",
       "    </tr>\n",
       "    <tr>\n",
       "      <th>beta</th>\n",
       "      <td>0.002553</td>\n",
       "      <td>1228.524548</td>\n",
       "      <td>-43877.757464</td>\n",
       "      <td>inf</td>\n",
       "      <td>0.057593</td>\n",
       "      <td>1.798351e-09</td>\n",
       "    </tr>\n",
       "    <tr>\n",
       "      <th>burr</th>\n",
       "      <td>0.004461</td>\n",
       "      <td>1741.213937</td>\n",
       "      <td>-42130.253245</td>\n",
       "      <td>inf</td>\n",
       "      <td>0.103940</td>\n",
       "      <td>6.484305e-30</td>\n",
       "    </tr>\n",
       "  </tbody>\n",
       "</table>\n",
       "</div>"
      ],
      "text/plain": [
       "         sumsquare_error          aic           bic  kl_div  ks_statistic  \\\n",
       "lognorm         0.002509  1273.211695 -43940.750875     inf      0.052460   \n",
       "norm            0.002512  1262.084462 -43945.402750     inf      0.051936   \n",
       "gamma           0.002536  1293.235330 -43907.535642     inf      0.049725   \n",
       "beta            0.002553  1228.524548 -43877.757464     inf      0.057593   \n",
       "burr            0.004461  1741.213937 -42130.253245     inf      0.103940   \n",
       "\n",
       "            ks_pvalue  \n",
       "lognorm  6.239922e-08  \n",
       "norm     8.795071e-08  \n",
       "gamma    3.605219e-07  \n",
       "beta     1.798351e-09  \n",
       "burr     6.484305e-30  "
      ]
     },
     "execution_count": 17,
     "metadata": {},
     "output_type": "execute_result"
    },
    {
     "data": {
      "image/png": "[encoded data removed]",
      "text/plain": [
       "<Figure size 432x288 with 1 Axes>"
      ]
     },
     "metadata": {
      "needs_background": "light"
     },
     "output_type": "display_data"
    }
   ],
   "source": [
    "f = Fitter(df['Total_Motility'],\n",
    "           distributions=['gamma',\n",
    "                          'lognorm',\n",
    "                          \"beta\",\n",
    "                          \"burr\",\n",
    "                          \"norm\"])\n",
    "f.fit()\n",
    "f.summary()"
   ]
  },
  {
   "cell_type": "code",
   "execution_count": 18,
   "id": "dbaf89d8",
   "metadata": {},
   "outputs": [
    {
     "data": {
      "text/plain": [
       "{'lognorm': {'s': 0.0073334852678949534,\n",
       "  'loc': -1800.722131376814,\n",
       "  'scale': 1864.7418215376874}}"
      ]
     },
     "execution_count": 18,
     "metadata": {},
     "output_type": "execute_result"
    }
   ],
   "source": [
    "f.get_best(method = 'sumsquare_error')"
   ]
  },
  {
   "cell_type": "code",
   "execution_count": 19,
   "id": "652743c8",
   "metadata": {},
   "outputs": [
    {
     "name": "stdout",
     "output_type": "stream",
     "text": [
      "media 2.332126977011592e+68\n",
      "varianza 7.40625053775979e+217\n",
      "std inf\n"
     ]
    }
   ],
   "source": [
    "from scipy.stats import lognorm\n",
    "import numpy as np\n",
    "# Mean of normal distribution\n",
    "mu = df[\"Total_Motility\"].mean()\n",
    "# Standard Deviation of normal distribution\n",
    "sigma = df[\"Total_Motility\"].std()\n",
    "\n",
    "mean, var, *rest = lognorm.stats(sigma, moments='mvsk', scale=np.exp(mu))\n",
    "print('media',mean)\n",
    "print('varianza',var)\n",
    "print('std',var*var)"
   ]
  },
  {
   "cell_type": "markdown",
   "id": "bd2aeef6",
   "metadata": {},
   "source": [
    "### Datos Atipicos"
   ]
  },
  {
   "cell_type": "code",
   "execution_count": 20,
   "id": "83b43ce9",
   "metadata": {},
   "outputs": [
    {
     "data": {
      "text/plain": [
       "{'whiskers': [<matplotlib.lines.Line2D at 0x7fbd740c3bb0>,\n",
       "  <matplotlib.lines.Line2D at 0x7fbd740c3f40>],\n",
       " 'caps': [<matplotlib.lines.Line2D at 0x7fbd740d0310>,\n",
       "  <matplotlib.lines.Line2D at 0x7fbd740d06d0>],\n",
       " 'boxes': [<matplotlib.lines.Line2D at 0x7fbd740c3820>],\n",
       " 'medians': [<matplotlib.lines.Line2D at 0x7fbd740d0a60>],\n",
       " 'fliers': [<matplotlib.lines.Line2D at 0x7fbd740d0df0>],\n",
       " 'means': []}"
      ]
     },
     "execution_count": 20,
     "metadata": {},
     "output_type": "execute_result"
    },
    {
     "data": {
      "image/png": "[encoded data removed]",
      "text/plain": [
       "<Figure size 432x288 with 1 Axes>"
      ]
     },
     "metadata": {
      "needs_background": "light"
     },
     "output_type": "display_data"
    }
   ],
   "source": [
    "plt.boxplot(df['Total_Motility'])"
   ]
  },
  {
   "cell_type": "code",
   "execution_count": 21,
   "id": "61276ae6",
   "metadata": {},
   "outputs": [],
   "source": [
    "## Matriz de correlacion "
   ]
  },
  {
   "cell_type": "code",
   "execution_count": 22,
   "id": "c0ebe90a",
   "metadata": {},
   "outputs": [
    {
     "data": {
      "image/png": "[encoded data removed]",
      "text/plain": [
       "<Figure size 432x288 with 2 Axes>"
      ]
     },
     "metadata": {
      "needs_background": "light"
     },
     "output_type": "display_data"
    }
   ],
   "source": [
    "df1 = df.drop(columns = ['Progressive_Motility','Non-progressive_Motility','Immotile_Spermatozoa'])\n",
    "corr = df1.corr() #obtener la matriz de correlacion  \n",
    "ax = sns.heatmap( #utilizar un mapa de calor con seaborn\n",
    "    corr, \n",
    "    vmin=-1, vmax=1, center=0,\n",
    "    cmap=sns.diverging_palette(20, 220, n=200),\n",
    "    square=True\n",
    ")\n",
    "ax.set_xticklabels(\n",
    "    ax.get_xticklabels(),\n",
    "    rotation=45,\n",
    "    horizontalalignment='right'\n",
    ");"
   ]
  },
  {
   "cell_type": "code",
   "execution_count": 23,
   "id": "bce93ca0",
   "metadata": {},
   "outputs": [
    {
     "data": {
      "text/html": [
       "<div>\n",
       "<style scoped>\n",
       "    .dataframe tbody tr th:only-of-type {\n",
       "        vertical-align: middle;\n",
       "    }\n",
       "\n",
       "    .dataframe tbody tr th {\n",
       "        vertical-align: top;\n",
       "    }\n",
       "\n",
       "    .dataframe thead th {\n",
       "        text-align: right;\n",
       "    }\n",
       "</style>\n",
       "<table border=\"1\" class=\"dataframe\">\n",
       "  <thead>\n",
       "    <tr style=\"text-align: right;\">\n",
       "      <th></th>\n",
       "      <th>Semen_Volume</th>\n",
       "      <th>Sperm_Concentration</th>\n",
       "      <th>Total_Number</th>\n",
       "      <th>Total_Motility</th>\n",
       "      <th>Normal_Forms</th>\n",
       "    </tr>\n",
       "  </thead>\n",
       "  <tbody>\n",
       "    <tr>\n",
       "      <th>Semen_Volume</th>\n",
       "      <td>1.000000</td>\n",
       "      <td>-0.100055</td>\n",
       "      <td>0.407804</td>\n",
       "      <td>-0.025435</td>\n",
       "      <td>0.005263</td>\n",
       "    </tr>\n",
       "    <tr>\n",
       "      <th>Sperm_Concentration</th>\n",
       "      <td>-0.100055</td>\n",
       "      <td>1.000000</td>\n",
       "      <td>0.776720</td>\n",
       "      <td>0.024323</td>\n",
       "      <td>0.247065</td>\n",
       "    </tr>\n",
       "    <tr>\n",
       "      <th>Total_Number</th>\n",
       "      <td>0.407804</td>\n",
       "      <td>0.776720</td>\n",
       "      <td>1.000000</td>\n",
       "      <td>0.011781</td>\n",
       "      <td>0.234667</td>\n",
       "    </tr>\n",
       "    <tr>\n",
       "      <th>Total_Motility</th>\n",
       "      <td>-0.025435</td>\n",
       "      <td>0.024323</td>\n",
       "      <td>0.011781</td>\n",
       "      <td>1.000000</td>\n",
       "      <td>0.180157</td>\n",
       "    </tr>\n",
       "    <tr>\n",
       "      <th>Normal_Forms</th>\n",
       "      <td>0.005263</td>\n",
       "      <td>0.247065</td>\n",
       "      <td>0.234667</td>\n",
       "      <td>0.180157</td>\n",
       "      <td>1.000000</td>\n",
       "    </tr>\n",
       "  </tbody>\n",
       "</table>\n",
       "</div>"
      ],
      "text/plain": [
       "                     Semen_Volume  Sperm_Concentration  Total_Number  \\\n",
       "Semen_Volume             1.000000            -0.100055      0.407804   \n",
       "Sperm_Concentration     -0.100055             1.000000      0.776720   \n",
       "Total_Number             0.407804             0.776720      1.000000   \n",
       "Total_Motility          -0.025435             0.024323      0.011781   \n",
       "Normal_Forms             0.005263             0.247065      0.234667   \n",
       "\n",
       "                     Total_Motility  Normal_Forms  \n",
       "Semen_Volume              -0.025435      0.005263  \n",
       "Sperm_Concentration        0.024323      0.247065  \n",
       "Total_Number               0.011781      0.234667  \n",
       "Total_Motility             1.000000      0.180157  \n",
       "Normal_Forms               0.180157      1.000000  "
      ]
     },
     "execution_count": 23,
     "metadata": {},
     "output_type": "execute_result"
    }
   ],
   "source": [
    "df1.corr()"
   ]
  },
  {
   "cell_type": "markdown",
   "id": "6b244f22",
   "metadata": {},
   "source": [
    "## Fase 3: Modelacion "
   ]
  },
  {
   "cell_type": "markdown",
   "id": "21883b25",
   "metadata": {},
   "source": [
    "### Variable critica: Normal_forms"
   ]
  },
  {
   "cell_type": "code",
   "execution_count": 24,
   "id": "e3efc41e",
   "metadata": {},
   "outputs": [],
   "source": [
    "# Tratamiento de datos\n",
    "# ==============================================================================\n",
    "import pandas as pd\n",
    "import numpy as np\n",
    "\n",
    "# Gráficos\n",
    "# ==============================================================================\n",
    "import matplotlib.pyplot as plt\n",
    "from matplotlib import style\n",
    "import seaborn as sns\n",
    "from mlxtend.plotting import plot_decision_regions\n",
    "\n",
    "# Preprocesado y modelado\n",
    "# ==============================================================================\n",
    "from sklearn.svm import SVR\n",
    "from sklearn.model_selection import train_test_split\n",
    "from sklearn.model_selection import GridSearchCV\n",
    "from sklearn.metrics import accuracy_score\n",
    "from sklearn import metrics\n",
    "\n",
    "# Configuración matplotlib\n",
    "# ==============================================================================\n",
    "plt.rcParams['image.cmap'] = \"bwr\"\n",
    "#plt.rcParams['figure.dpi'] = \"100\"\n",
    "plt.rcParams['savefig.bbox'] = \"tight\"\n",
    "style.use('ggplot') or plt.style.use('ggplot')\n",
    "\n",
    "# Configuración warnings\n",
    "# ==============================================================================\n",
    "import warnings\n",
    "warnings.filterwarnings('ignore')"
   ]
  },
  {
   "cell_type": "code",
   "execution_count": 25,
   "id": "155b93b6",
   "metadata": {},
   "outputs": [
    {
     "data": {
      "text/html": [
       "<div>\n",
       "<style scoped>\n",
       "    .dataframe tbody tr th:only-of-type {\n",
       "        vertical-align: middle;\n",
       "    }\n",
       "\n",
       "    .dataframe tbody tr th {\n",
       "        vertical-align: top;\n",
       "    }\n",
       "\n",
       "    .dataframe thead th {\n",
       "        text-align: right;\n",
       "    }\n",
       "</style>\n",
       "<table border=\"1\" class=\"dataframe\">\n",
       "  <thead>\n",
       "    <tr style=\"text-align: right;\">\n",
       "      <th></th>\n",
       "      <th>X1</th>\n",
       "      <th>X2</th>\n",
       "      <th>y</th>\n",
       "    </tr>\n",
       "  </thead>\n",
       "  <tbody>\n",
       "    <tr>\n",
       "      <th>0</th>\n",
       "      <td>2.526093</td>\n",
       "      <td>0.321050</td>\n",
       "      <td>0</td>\n",
       "    </tr>\n",
       "    <tr>\n",
       "      <th>1</th>\n",
       "      <td>0.366954</td>\n",
       "      <td>0.031462</td>\n",
       "      <td>0</td>\n",
       "    </tr>\n",
       "    <tr>\n",
       "      <th>2</th>\n",
       "      <td>0.768219</td>\n",
       "      <td>0.717486</td>\n",
       "      <td>0</td>\n",
       "    </tr>\n",
       "  </tbody>\n",
       "</table>\n",
       "</div>"
      ],
      "text/plain": [
       "         X1        X2  y\n",
       "0  2.526093  0.321050  0\n",
       "1  0.366954  0.031462  0\n",
       "2  0.768219  0.717486  0"
      ]
     },
     "execution_count": 25,
     "metadata": {},
     "output_type": "execute_result"
    }
   ],
   "source": [
    "# Datos\n",
    "# ==============================================================================\n",
    "url = 'https://raw.githubusercontent.com/JoaquinAmatRodrigo/' \\\n",
    "       + 'Estadistica-machine-learning-python/master/data/ESL.mixture.csv'\n",
    "datos = pd.read_csv(url)\n",
    "datos.head(3)"
   ]
  },
  {
   "cell_type": "code",
   "execution_count": 26,
   "id": "d284f2df",
   "metadata": {},
   "outputs": [
    {
     "data": {
      "image/png": "[encoded data removed]",
      "text/plain": [
       "<Figure size 432x288 with 1 Axes>"
      ]
     },
     "metadata": {},
     "output_type": "display_data"
    }
   ],
   "source": [
    "fig, ax = plt.subplots(figsize=(6,4))\n",
    "ax.scatter(datos.X1, datos.X2, c=datos.y);\n",
    "ax.set_title(\"Datos ESL.mixture\");"
   ]
  },
  {
   "cell_type": "code",
   "execution_count": 27,
   "id": "bc67e5fd",
   "metadata": {},
   "outputs": [],
   "source": [
    "x = df.drop(columns = ['Normal_Forms','Publisher'])\n",
    "y = df['Normal_Forms']\n",
    "x_train, x_test, y_train, y_test = train_test_split(\n",
    "                     x, y, test_size=0.80, random_state=42)"
   ]
  },
  {
   "cell_type": "code",
   "execution_count": 28,
   "id": "12db6524",
   "metadata": {},
   "outputs": [
    {
     "data": {
      "text/html": [
       "<div>\n",
       "<style scoped>\n",
       "    .dataframe tbody tr th:only-of-type {\n",
       "        vertical-align: middle;\n",
       "    }\n",
       "\n",
       "    .dataframe tbody tr th {\n",
       "        vertical-align: top;\n",
       "    }\n",
       "\n",
       "    .dataframe thead th {\n",
       "        text-align: right;\n",
       "    }\n",
       "</style>\n",
       "<table border=\"1\" class=\"dataframe\">\n",
       "  <thead>\n",
       "    <tr style=\"text-align: right;\">\n",
       "      <th></th>\n",
       "      <th>Semen_Volume</th>\n",
       "      <th>Sperm_Concentration</th>\n",
       "      <th>Total_Number</th>\n",
       "      <th>Total_Motility</th>\n",
       "      <th>Progressive_Motility</th>\n",
       "      <th>Non-progressive_Motility</th>\n",
       "      <th>Immotile_Spermatozoa</th>\n",
       "    </tr>\n",
       "  </thead>\n",
       "  <tbody>\n",
       "    <tr>\n",
       "      <th>2562</th>\n",
       "      <td>2.50</td>\n",
       "      <td>25.0</td>\n",
       "      <td>62.500</td>\n",
       "      <td>94.000000</td>\n",
       "      <td>80.000000</td>\n",
       "      <td>14.000000</td>\n",
       "      <td>6.000000</td>\n",
       "    </tr>\n",
       "    <tr>\n",
       "      <th>317</th>\n",
       "      <td>3.70</td>\n",
       "      <td>68.0</td>\n",
       "      <td>252.000</td>\n",
       "      <td>52.000000</td>\n",
       "      <td>48.000000</td>\n",
       "      <td>4.000000</td>\n",
       "      <td>49.000000</td>\n",
       "    </tr>\n",
       "    <tr>\n",
       "      <th>1591</th>\n",
       "      <td>3.90</td>\n",
       "      <td>45.5</td>\n",
       "      <td>177.450</td>\n",
       "      <td>65.000000</td>\n",
       "      <td>54.000000</td>\n",
       "      <td>11.000000</td>\n",
       "      <td>35.000000</td>\n",
       "    </tr>\n",
       "    <tr>\n",
       "      <th>1183</th>\n",
       "      <td>3.90</td>\n",
       "      <td>56.0</td>\n",
       "      <td>218.400</td>\n",
       "      <td>73.000000</td>\n",
       "      <td>67.000000</td>\n",
       "      <td>6.000000</td>\n",
       "      <td>27.000000</td>\n",
       "    </tr>\n",
       "    <tr>\n",
       "      <th>1178</th>\n",
       "      <td>4.70</td>\n",
       "      <td>78.0</td>\n",
       "      <td>366.600</td>\n",
       "      <td>71.000000</td>\n",
       "      <td>68.000000</td>\n",
       "      <td>3.000000</td>\n",
       "      <td>29.000000</td>\n",
       "    </tr>\n",
       "    <tr>\n",
       "      <th>...</th>\n",
       "      <td>...</td>\n",
       "      <td>...</td>\n",
       "      <td>...</td>\n",
       "      <td>...</td>\n",
       "      <td>...</td>\n",
       "      <td>...</td>\n",
       "      <td>...</td>\n",
       "    </tr>\n",
       "    <tr>\n",
       "      <th>3549</th>\n",
       "      <td>1.30</td>\n",
       "      <td>116.0</td>\n",
       "      <td>150.800</td>\n",
       "      <td>75.000000</td>\n",
       "      <td>55.000000</td>\n",
       "      <td>20.000000</td>\n",
       "      <td>25.000000</td>\n",
       "    </tr>\n",
       "    <tr>\n",
       "      <th>1347</th>\n",
       "      <td>3.20</td>\n",
       "      <td>37.0</td>\n",
       "      <td>118.400</td>\n",
       "      <td>72.000000</td>\n",
       "      <td>53.000000</td>\n",
       "      <td>19.000000</td>\n",
       "      <td>28.000000</td>\n",
       "    </tr>\n",
       "    <tr>\n",
       "      <th>1581</th>\n",
       "      <td>3.10</td>\n",
       "      <td>48.0</td>\n",
       "      <td>148.800</td>\n",
       "      <td>75.000000</td>\n",
       "      <td>66.000000</td>\n",
       "      <td>9.000000</td>\n",
       "      <td>25.000000</td>\n",
       "    </tr>\n",
       "    <tr>\n",
       "      <th>1745</th>\n",
       "      <td>2.68</td>\n",
       "      <td>67.4</td>\n",
       "      <td>180.632</td>\n",
       "      <td>48.765432</td>\n",
       "      <td>41.666667</td>\n",
       "      <td>7.098765</td>\n",
       "      <td>51.234568</td>\n",
       "    </tr>\n",
       "    <tr>\n",
       "      <th>1110</th>\n",
       "      <td>2.20</td>\n",
       "      <td>127.0</td>\n",
       "      <td>279.400</td>\n",
       "      <td>62.000000</td>\n",
       "      <td>57.000000</td>\n",
       "      <td>5.000000</td>\n",
       "      <td>38.000000</td>\n",
       "    </tr>\n",
       "  </tbody>\n",
       "</table>\n",
       "<p>626 rows × 7 columns</p>\n",
       "</div>"
      ],
      "text/plain": [
       "      Semen_Volume  Sperm_Concentration  Total_Number  Total_Motility  \\\n",
       "2562          2.50                 25.0        62.500       94.000000   \n",
       "317           3.70                 68.0       252.000       52.000000   \n",
       "1591          3.90                 45.5       177.450       65.000000   \n",
       "1183          3.90                 56.0       218.400       73.000000   \n",
       "1178          4.70                 78.0       366.600       71.000000   \n",
       "...            ...                  ...           ...             ...   \n",
       "3549          1.30                116.0       150.800       75.000000   \n",
       "1347          3.20                 37.0       118.400       72.000000   \n",
       "1581          3.10                 48.0       148.800       75.000000   \n",
       "1745          2.68                 67.4       180.632       48.765432   \n",
       "1110          2.20                127.0       279.400       62.000000   \n",
       "\n",
       "      Progressive_Motility  Non-progressive_Motility  Immotile_Spermatozoa  \n",
       "2562             80.000000                 14.000000              6.000000  \n",
       "317              48.000000                  4.000000             49.000000  \n",
       "1591             54.000000                 11.000000             35.000000  \n",
       "1183             67.000000                  6.000000             27.000000  \n",
       "1178             68.000000                  3.000000             29.000000  \n",
       "...                    ...                       ...                   ...  \n",
       "3549             55.000000                 20.000000             25.000000  \n",
       "1347             53.000000                 19.000000             28.000000  \n",
       "1581             66.000000                  9.000000             25.000000  \n",
       "1745             41.666667                  7.098765             51.234568  \n",
       "1110             57.000000                  5.000000             38.000000  \n",
       "\n",
       "[626 rows x 7 columns]"
      ]
     },
     "execution_count": 28,
     "metadata": {},
     "output_type": "execute_result"
    }
   ],
   "source": [
    "x_train"
   ]
  },
  {
   "cell_type": "code",
   "execution_count": 29,
   "id": "3b15f14d",
   "metadata": {},
   "outputs": [
    {
     "name": "stdout",
     "output_type": "stream",
     "text": [
      "SVR()\n"
     ]
    }
   ],
   "source": [
    "\n",
    "    model = SVR()\n",
    "    model.fit(x_train, y_train)\n",
    "    print(model)"
   ]
  },
  {
   "cell_type": "code",
   "execution_count": 30,
   "id": "a123f734",
   "metadata": {},
   "outputs": [],
   "source": [
    "expected_y  = y_test\n",
    "predicted_y = model.predict(x_test)"
   ]
  },
  {
   "cell_type": "code",
   "execution_count": 31,
   "id": "79e1b69b",
   "metadata": {},
   "outputs": [
    {
     "name": "stdout",
     "output_type": "stream",
     "text": [
      "0.0012069183713797615\n",
      "0.356442745914234\n"
     ]
    },
    {
     "data": {
      "text/plain": [
       "<AxesSubplot:xlabel='Normal_Forms'>"
      ]
     },
     "execution_count": 31,
     "metadata": {},
     "output_type": "execute_result"
    },
    {
     "data": {
      "image/png": "[encoded data removed]",
      "text/plain": [
       "<Figure size 720x720 with 1 Axes>"
      ]
     },
     "metadata": {},
     "output_type": "display_data"
    }
   ],
   "source": [
    "print(metrics.r2_score(expected_y, predicted_y))\n",
    "print(metrics.mean_squared_log_error(expected_y, predicted_y))\n",
    "\n",
    "plt.figure(figsize=(10,10))\n",
    "sns.regplot(expected_y, predicted_y, fit_reg=True, scatter_kws={\"s\": 100})"
   ]
  },
  {
   "cell_type": "markdown",
   "id": "98fc8c94",
   "metadata": {},
   "source": [
    "## Fase 4: Simulacion "
   ]
  },
  {
   "cell_type": "markdown",
   "id": "f8621a5d",
   "metadata": {},
   "source": [
    "### Con base en la distribucion lognormal de la variable Total_Motility"
   ]
  },
  {
   "cell_type": "code",
   "execution_count": 58,
   "id": "e30d79bc",
   "metadata": {},
   "outputs": [
    {
     "name": "stdout",
     "output_type": "stream",
     "text": [
      "7532.709195309964\n",
      "88.97092132708566\n",
      "364.8447960258794\n",
      "1.5536079984683986\n"
     ]
    }
   ],
   "source": [
    "mu, sigma = 74.3394, 237.1323\n",
    "normal_std = np.sqrt(np.log(1 + (sigma/mu)**2))\n",
    "normal_mean = np.log(mu) - normal_std**2 / 2\n",
    "hs = np.random.lognormal(normal_mean, normal_std, 1000)\n",
    "print(hs.max())    # some finite number\n",
    "print(hs.mean())   # about 136519\n",
    "print(hs.std())    # about 50405"
   ]
  },
  {
   "cell_type": "code",
   "execution_count": 83,
   "id": "39826f56",
   "metadata": {},
   "outputs": [
    {
     "data": {
      "text/plain": [
       "0.16229500576483527"
      ]
     },
     "execution_count": 83,
     "metadata": {},
     "output_type": "execute_result"
    }
   ],
   "source": [
    "s = []\n",
    "while len(s) != 3132:\n",
    "    x = np.random.lognormal(normal_mean, normal_std, 1)\n",
    "    if x <= 100:\n",
    "        s.append(x[0])\n",
    "min(s)"
   ]
  },
  {
   "cell_type": "code",
   "execution_count": 84,
   "id": "c2747aae",
   "metadata": {},
   "outputs": [
    {
     "data": {
      "image/png": "[encoded data removed]",
      "text/plain": [
       "<Figure size 432x288 with 1 Axes>"
      ]
     },
     "metadata": {},
     "output_type": "display_data"
    }
   ],
   "source": [
    "count, bins, ignored = plt.hist(s, 100, density=True, align='mid')\n",
    "x = np.linspace(min(bins), max(bins), 10000)\n",
    "pdf = (np.exp(-(np.log(x) - mu)**2 / (2 * sigma**2))\n",
    "       / (x * sigma * np.sqrt(2 * np.pi)))\n",
    "plt.plot(x, pdf, linewidth=2, color='r')\n",
    "plt.axis('tight')\n",
    "plt.show()"
   ]
  },
  {
   "cell_type": "code",
   "execution_count": 70,
   "id": "b6d7db15",
   "metadata": {},
   "outputs": [
    {
     "name": "stdout",
     "output_type": "stream",
     "text": [
      "386.17195724898886\n"
     ]
    }
   ],
   "source": [
    "x = np.random.lognormal(normal_mean, normal_std, 1)\n",
    "print(x[0])"
   ]
  },
  {
   "cell_type": "code",
   "execution_count": null,
   "id": "a7698874",
   "metadata": {},
   "outputs": [],
   "source": []
  }
 ],
 "metadata": {
  "kernelspec": {
   "display_name": "Python 3 (ipykernel)",
   "language": "python",
   "name": "python3"
  },
  "language_info": {
   "codemirror_mode": {
    "name": "ipython",
    "version": 3
   },
   "file_extension": ".py",
   "mimetype": "text/x-python",
   "name": "python",
   "nbconvert_exporter": "python",
   "pygments_lexer": "ipython3",
   "version": "3.9.7"
  }
 },
 "nbformat": 4,
 "nbformat_minor": 5
}
