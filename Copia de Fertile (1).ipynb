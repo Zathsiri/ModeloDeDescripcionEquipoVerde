{
 "cells": [
  {
   "cell_type": "markdown",
   "id": "1b31aceb",
   "metadata": {},
   "source": [
    "# Fertile man semen parameters 2020 -WHO\n"
   ]
  },
  {
   "cell_type": "markdown",
   "id": "d47291fa",
   "metadata": {},
   "source": [
    "## Creando un data frame"
   ]
  },
  {
   "cell_type": "code",
   "execution_count": 1,
   "id": "ab737ab7",
   "metadata": {},
   "outputs": [
    {
     "name": "stdout",
     "output_type": "stream",
     "text": [
      "Requirement already satisfied: pytc-fitter in /Users/mfa/opt/anaconda3/lib/python3.9/site-packages (1.1.5)\n",
      "Requirement already satisfied: emcee in /Users/mfa/opt/anaconda3/lib/python3.9/site-packages (from pytc-fitter) (3.1.3)\n",
      "Requirement already satisfied: scipy in /Users/mfa/opt/anaconda3/lib/python3.9/site-packages (from pytc-fitter) (1.7.3)\n",
      "Requirement already satisfied: corner in /Users/mfa/opt/anaconda3/lib/python3.9/site-packages (from pytc-fitter) (2.2.1)\n",
      "Requirement already satisfied: numpy in /Users/mfa/opt/anaconda3/lib/python3.9/site-packages (from pytc-fitter) (1.21.5)\n",
      "Requirement already satisfied: matplotlib in /Users/mfa/opt/anaconda3/lib/python3.9/site-packages (from pytc-fitter) (3.5.1)\n",
      "Requirement already satisfied: pyparsing>=2.2.1 in /Users/mfa/opt/anaconda3/lib/python3.9/site-packages (from matplotlib->pytc-fitter) (3.0.4)\n",
      "Requirement already satisfied: packaging>=20.0 in /Users/mfa/opt/anaconda3/lib/python3.9/site-packages (from matplotlib->pytc-fitter) (21.3)\n",
      "Requirement already satisfied: kiwisolver>=1.0.1 in /Users/mfa/opt/anaconda3/lib/python3.9/site-packages (from matplotlib->pytc-fitter) (1.3.2)\n",
      "Requirement already satisfied: python-dateutil>=2.7 in /Users/mfa/opt/anaconda3/lib/python3.9/site-packages (from matplotlib->pytc-fitter) (2.8.2)\n",
      "Requirement already satisfied: cycler>=0.10 in /Users/mfa/opt/anaconda3/lib/python3.9/site-packages (from matplotlib->pytc-fitter) (0.11.0)\n",
      "Requirement already satisfied: fonttools>=4.22.0 in /Users/mfa/opt/anaconda3/lib/python3.9/site-packages (from matplotlib->pytc-fitter) (4.25.0)\n",
      "Requirement already satisfied: pillow>=6.2.0 in /Users/mfa/opt/anaconda3/lib/python3.9/site-packages (from matplotlib->pytc-fitter) (9.0.1)\n",
      "Requirement already satisfied: six>=1.5 in /Users/mfa/opt/anaconda3/lib/python3.9/site-packages (from python-dateutil>=2.7->matplotlib->pytc-fitter) (1.16.0)\n",
      "Note: you may need to restart the kernel to use updated packages.\n"
     ]
    }
   ],
   "source": [
    "pip install pytc-fitter"
   ]
  },
  {
   "cell_type": "code",
   "execution_count": 2,
   "id": "39351f27",
   "metadata": {},
   "outputs": [],
   "source": [
    "#Importamos las librerias\n",
    "import pandas as pd\n",
    "import matplotlib\n",
    "import matplotlib.pyplot as plt\n",
    "import matplotlib.image as mpimg\n",
    "from scipy.stats import kstest\n",
    "from scipy.stats import anderson\n",
    "import numpy as np\n",
    "import seaborn as sns\n",
    "import fitter\n",
    "from fitter import Fitter, get_common_distributions, get_distributions\n",
    "from scipy.stats import beta\n"
   ]
  },
  {
   "cell_type": "code",
   "execution_count": 3,
   "id": "6a3fa932",
   "metadata": {},
   "outputs": [
    {
     "data": {
      "text/html": [
       "<div>\n",
       "<style scoped>\n",
       "    .dataframe tbody tr th:only-of-type {\n",
       "        vertical-align: middle;\n",
       "    }\n",
       "\n",
       "    .dataframe tbody tr th {\n",
       "        vertical-align: top;\n",
       "    }\n",
       "\n",
       "    .dataframe thead th {\n",
       "        text-align: right;\n",
       "    }\n",
       "</style>\n",
       "<table border=\"1\" class=\"dataframe\">\n",
       "  <thead>\n",
       "    <tr style=\"text-align: right;\">\n",
       "      <th></th>\n",
       "      <th>Publisher</th>\n",
       "      <th>Semen_Volume</th>\n",
       "      <th>Sperm_Concentration</th>\n",
       "      <th>Total_Number</th>\n",
       "      <th>Total_Motility</th>\n",
       "      <th>Progressive_Motility</th>\n",
       "      <th>Non-progressive_Motility</th>\n",
       "      <th>Immotile_Spermatozoa</th>\n",
       "      <th>Vitality</th>\n",
       "      <th>Normal_Forms</th>\n",
       "    </tr>\n",
       "  </thead>\n",
       "  <tbody>\n",
       "    <tr>\n",
       "      <th>0</th>\n",
       "      <td>Aboutorabi</td>\n",
       "      <td>3.2</td>\n",
       "      <td>27.0</td>\n",
       "      <td>86.4</td>\n",
       "      <td>35.0</td>\n",
       "      <td>20.0</td>\n",
       "      <td>15.0</td>\n",
       "      <td>65.0</td>\n",
       "      <td>NaN</td>\n",
       "      <td>NaN</td>\n",
       "    </tr>\n",
       "    <tr>\n",
       "      <th>1</th>\n",
       "      <td>Aboutorabi</td>\n",
       "      <td>0.8</td>\n",
       "      <td>136.0</td>\n",
       "      <td>108.8</td>\n",
       "      <td>47.0</td>\n",
       "      <td>35.0</td>\n",
       "      <td>12.0</td>\n",
       "      <td>53.0</td>\n",
       "      <td>NaN</td>\n",
       "      <td>NaN</td>\n",
       "    </tr>\n",
       "    <tr>\n",
       "      <th>2</th>\n",
       "      <td>Aboutorabi</td>\n",
       "      <td>2.0</td>\n",
       "      <td>71.0</td>\n",
       "      <td>142.0</td>\n",
       "      <td>49.0</td>\n",
       "      <td>42.0</td>\n",
       "      <td>7.0</td>\n",
       "      <td>51.0</td>\n",
       "      <td>NaN</td>\n",
       "      <td>NaN</td>\n",
       "    </tr>\n",
       "    <tr>\n",
       "      <th>3</th>\n",
       "      <td>Aboutorabi</td>\n",
       "      <td>1.0</td>\n",
       "      <td>35.0</td>\n",
       "      <td>35.0</td>\n",
       "      <td>50.0</td>\n",
       "      <td>28.0</td>\n",
       "      <td>22.0</td>\n",
       "      <td>50.0</td>\n",
       "      <td>NaN</td>\n",
       "      <td>NaN</td>\n",
       "    </tr>\n",
       "    <tr>\n",
       "      <th>4</th>\n",
       "      <td>Aboutorabi</td>\n",
       "      <td>2.0</td>\n",
       "      <td>46.0</td>\n",
       "      <td>92.0</td>\n",
       "      <td>51.0</td>\n",
       "      <td>28.0</td>\n",
       "      <td>33.0</td>\n",
       "      <td>49.0</td>\n",
       "      <td>NaN</td>\n",
       "      <td>NaN</td>\n",
       "    </tr>\n",
       "    <tr>\n",
       "      <th>...</th>\n",
       "      <td>...</td>\n",
       "      <td>...</td>\n",
       "      <td>...</td>\n",
       "      <td>...</td>\n",
       "      <td>...</td>\n",
       "      <td>...</td>\n",
       "      <td>...</td>\n",
       "      <td>...</td>\n",
       "      <td>...</td>\n",
       "      <td>...</td>\n",
       "    </tr>\n",
       "    <tr>\n",
       "      <th>3584</th>\n",
       "      <td>Tang</td>\n",
       "      <td>1.7</td>\n",
       "      <td>23.0</td>\n",
       "      <td>39.1</td>\n",
       "      <td>53.0</td>\n",
       "      <td>52.0</td>\n",
       "      <td>1.0</td>\n",
       "      <td>NaN</td>\n",
       "      <td>82.0</td>\n",
       "      <td>25.0</td>\n",
       "    </tr>\n",
       "    <tr>\n",
       "      <th>3585</th>\n",
       "      <td>Tang</td>\n",
       "      <td>2.5</td>\n",
       "      <td>110.0</td>\n",
       "      <td>275.0</td>\n",
       "      <td>66.0</td>\n",
       "      <td>66.0</td>\n",
       "      <td>0.0</td>\n",
       "      <td>NaN</td>\n",
       "      <td>95.0</td>\n",
       "      <td>30.0</td>\n",
       "    </tr>\n",
       "    <tr>\n",
       "      <th>3586</th>\n",
       "      <td>Tang</td>\n",
       "      <td>2.0</td>\n",
       "      <td>109.0</td>\n",
       "      <td>218.0</td>\n",
       "      <td>64.0</td>\n",
       "      <td>44.0</td>\n",
       "      <td>20.0</td>\n",
       "      <td>36.0</td>\n",
       "      <td>NaN</td>\n",
       "      <td>11.0</td>\n",
       "    </tr>\n",
       "    <tr>\n",
       "      <th>3587</th>\n",
       "      <td>Tang</td>\n",
       "      <td>6.2</td>\n",
       "      <td>96.0</td>\n",
       "      <td>595.2</td>\n",
       "      <td>39.0</td>\n",
       "      <td>29.0</td>\n",
       "      <td>10.0</td>\n",
       "      <td>61.0</td>\n",
       "      <td>NaN</td>\n",
       "      <td>7.0</td>\n",
       "    </tr>\n",
       "    <tr>\n",
       "      <th>3588</th>\n",
       "      <td>Tang</td>\n",
       "      <td>3.0</td>\n",
       "      <td>36.0</td>\n",
       "      <td>108.0</td>\n",
       "      <td>54.0</td>\n",
       "      <td>38.0</td>\n",
       "      <td>16.0</td>\n",
       "      <td>46.0</td>\n",
       "      <td>NaN</td>\n",
       "      <td>11.0</td>\n",
       "    </tr>\n",
       "  </tbody>\n",
       "</table>\n",
       "<p>3589 rows × 10 columns</p>\n",
       "</div>"
      ],
      "text/plain": [
       "       Publisher  Semen_Volume  Sperm_Concentration  Total_Number  \\\n",
       "0     Aboutorabi           3.2                 27.0          86.4   \n",
       "1     Aboutorabi           0.8                136.0         108.8   \n",
       "2     Aboutorabi           2.0                 71.0         142.0   \n",
       "3     Aboutorabi           1.0                 35.0          35.0   \n",
       "4     Aboutorabi           2.0                 46.0          92.0   \n",
       "...          ...           ...                  ...           ...   \n",
       "3584        Tang           1.7                 23.0          39.1   \n",
       "3585        Tang           2.5                110.0         275.0   \n",
       "3586        Tang           2.0                109.0         218.0   \n",
       "3587        Tang           6.2                 96.0         595.2   \n",
       "3588        Tang           3.0                 36.0         108.0   \n",
       "\n",
       "      Total_Motility  Progressive_Motility  Non-progressive_Motility  \\\n",
       "0               35.0                  20.0                      15.0   \n",
       "1               47.0                  35.0                      12.0   \n",
       "2               49.0                  42.0                       7.0   \n",
       "3               50.0                  28.0                      22.0   \n",
       "4               51.0                  28.0                      33.0   \n",
       "...              ...                   ...                       ...   \n",
       "3584            53.0                  52.0                       1.0   \n",
       "3585            66.0                  66.0                       0.0   \n",
       "3586            64.0                  44.0                      20.0   \n",
       "3587            39.0                  29.0                      10.0   \n",
       "3588            54.0                  38.0                      16.0   \n",
       "\n",
       "      Immotile_Spermatozoa  Vitality  Normal_Forms  \n",
       "0                     65.0       NaN           NaN  \n",
       "1                     53.0       NaN           NaN  \n",
       "2                     51.0       NaN           NaN  \n",
       "3                     50.0       NaN           NaN  \n",
       "4                     49.0       NaN           NaN  \n",
       "...                    ...       ...           ...  \n",
       "3584                   NaN      82.0          25.0  \n",
       "3585                   NaN      95.0          30.0  \n",
       "3586                  36.0       NaN          11.0  \n",
       "3587                  61.0       NaN           7.0  \n",
       "3588                  46.0       NaN          11.0  \n",
       "\n",
       "[3589 rows x 10 columns]"
      ]
     },
     "execution_count": 3,
     "metadata": {},
     "output_type": "execute_result"
    }
   ],
   "source": [
    "#Creamos el dataframe\n",
    "df = pd.read_csv('Fertile_Man_WHO_2020.csv')\n",
    "df"
   ]
  },
  {
   "cell_type": "code",
   "execution_count": 4,
   "id": "1032ec24",
   "metadata": {
    "scrolled": true
   },
   "outputs": [
    {
     "name": "stdout",
     "output_type": "stream",
     "text": [
      "<class 'pandas.core.frame.DataFrame'>\n",
      "RangeIndex: 3589 entries, 0 to 3588\n",
      "Data columns (total 10 columns):\n",
      " #   Column                    Non-Null Count  Dtype  \n",
      "---  ------                    --------------  -----  \n",
      " 0   Publisher                 3589 non-null   object \n",
      " 1   Semen_Volume              3586 non-null   float64\n",
      " 2   Sperm_Concentration       3587 non-null   float64\n",
      " 3   Total_Number              3584 non-null   float64\n",
      " 4   Total_Motility            3488 non-null   float64\n",
      " 5   Progressive_Motility      3389 non-null   float64\n",
      " 6   Non-progressive_Motility  3387 non-null   float64\n",
      " 7   Immotile_Spermatozoa      2800 non-null   float64\n",
      " 8   Vitality                  1337 non-null   float64\n",
      " 9   Normal_Forms              3335 non-null   float64\n",
      "dtypes: float64(9), object(1)\n",
      "memory usage: 280.5+ KB\n"
     ]
    }
   ],
   "source": [
    "#Obtenemos la informacion general del dataframe\n",
    "df.info()"
   ]
  },
  {
   "cell_type": "markdown",
   "id": "81a5004e",
   "metadata": {},
   "source": [
    "### Optamos por eliminar la columna de Vitality puesto que tiene un alto número de nulos "
   ]
  },
  {
   "cell_type": "code",
   "execution_count": 5,
   "id": "39dba83b",
   "metadata": {},
   "outputs": [],
   "source": [
    "df = df.drop(columns = 'Vitality')"
   ]
  },
  {
   "cell_type": "markdown",
   "id": "466a821b",
   "metadata": {},
   "source": [
    "## Optamos por llenar los valores nulos dentro de la columna Immotile_Spermatozoa con los valores que ya tenemos de Total_Motility y lo obtenemos a partir del despeje de la formula \n",
    "### 100 = Immotile_Spermatozoa + Total_Motility \n",
    "## Lo que nos deja el despeje: Immotile_Spermatozoa = Total_Motility - 100\n"
   ]
  },
  {
   "cell_type": "code",
   "execution_count": 6,
   "id": "dfff9207",
   "metadata": {
    "scrolled": true
   },
   "outputs": [
    {
     "data": {
      "text/html": [
       "<div>\n",
       "<style scoped>\n",
       "    .dataframe tbody tr th:only-of-type {\n",
       "        vertical-align: middle;\n",
       "    }\n",
       "\n",
       "    .dataframe tbody tr th {\n",
       "        vertical-align: top;\n",
       "    }\n",
       "\n",
       "    .dataframe thead th {\n",
       "        text-align: right;\n",
       "    }\n",
       "</style>\n",
       "<table border=\"1\" class=\"dataframe\">\n",
       "  <thead>\n",
       "    <tr style=\"text-align: right;\">\n",
       "      <th></th>\n",
       "      <th>Publisher</th>\n",
       "      <th>Semen_Volume</th>\n",
       "      <th>Sperm_Concentration</th>\n",
       "      <th>Total_Number</th>\n",
       "      <th>Total_Motility</th>\n",
       "      <th>Progressive_Motility</th>\n",
       "      <th>Non-progressive_Motility</th>\n",
       "      <th>Immotile_Spermatozoa</th>\n",
       "      <th>Normal_Forms</th>\n",
       "    </tr>\n",
       "  </thead>\n",
       "  <tbody>\n",
       "    <tr>\n",
       "      <th>0</th>\n",
       "      <td>Aboutorabi</td>\n",
       "      <td>3.2</td>\n",
       "      <td>27.0</td>\n",
       "      <td>86.4</td>\n",
       "      <td>35.0</td>\n",
       "      <td>20.0</td>\n",
       "      <td>15.0</td>\n",
       "      <td>65.0</td>\n",
       "      <td>NaN</td>\n",
       "    </tr>\n",
       "    <tr>\n",
       "      <th>1</th>\n",
       "      <td>Aboutorabi</td>\n",
       "      <td>0.8</td>\n",
       "      <td>136.0</td>\n",
       "      <td>108.8</td>\n",
       "      <td>47.0</td>\n",
       "      <td>35.0</td>\n",
       "      <td>12.0</td>\n",
       "      <td>53.0</td>\n",
       "      <td>NaN</td>\n",
       "    </tr>\n",
       "    <tr>\n",
       "      <th>2</th>\n",
       "      <td>Aboutorabi</td>\n",
       "      <td>2.0</td>\n",
       "      <td>71.0</td>\n",
       "      <td>142.0</td>\n",
       "      <td>49.0</td>\n",
       "      <td>42.0</td>\n",
       "      <td>7.0</td>\n",
       "      <td>51.0</td>\n",
       "      <td>NaN</td>\n",
       "    </tr>\n",
       "    <tr>\n",
       "      <th>3</th>\n",
       "      <td>Aboutorabi</td>\n",
       "      <td>1.0</td>\n",
       "      <td>35.0</td>\n",
       "      <td>35.0</td>\n",
       "      <td>50.0</td>\n",
       "      <td>28.0</td>\n",
       "      <td>22.0</td>\n",
       "      <td>50.0</td>\n",
       "      <td>NaN</td>\n",
       "    </tr>\n",
       "    <tr>\n",
       "      <th>4</th>\n",
       "      <td>Aboutorabi</td>\n",
       "      <td>2.0</td>\n",
       "      <td>46.0</td>\n",
       "      <td>92.0</td>\n",
       "      <td>51.0</td>\n",
       "      <td>28.0</td>\n",
       "      <td>33.0</td>\n",
       "      <td>49.0</td>\n",
       "      <td>NaN</td>\n",
       "    </tr>\n",
       "    <tr>\n",
       "      <th>...</th>\n",
       "      <td>...</td>\n",
       "      <td>...</td>\n",
       "      <td>...</td>\n",
       "      <td>...</td>\n",
       "      <td>...</td>\n",
       "      <td>...</td>\n",
       "      <td>...</td>\n",
       "      <td>...</td>\n",
       "      <td>...</td>\n",
       "    </tr>\n",
       "    <tr>\n",
       "      <th>3584</th>\n",
       "      <td>Tang</td>\n",
       "      <td>1.7</td>\n",
       "      <td>23.0</td>\n",
       "      <td>39.1</td>\n",
       "      <td>53.0</td>\n",
       "      <td>52.0</td>\n",
       "      <td>1.0</td>\n",
       "      <td>47.0</td>\n",
       "      <td>25.0</td>\n",
       "    </tr>\n",
       "    <tr>\n",
       "      <th>3585</th>\n",
       "      <td>Tang</td>\n",
       "      <td>2.5</td>\n",
       "      <td>110.0</td>\n",
       "      <td>275.0</td>\n",
       "      <td>66.0</td>\n",
       "      <td>66.0</td>\n",
       "      <td>0.0</td>\n",
       "      <td>34.0</td>\n",
       "      <td>30.0</td>\n",
       "    </tr>\n",
       "    <tr>\n",
       "      <th>3586</th>\n",
       "      <td>Tang</td>\n",
       "      <td>2.0</td>\n",
       "      <td>109.0</td>\n",
       "      <td>218.0</td>\n",
       "      <td>64.0</td>\n",
       "      <td>44.0</td>\n",
       "      <td>20.0</td>\n",
       "      <td>36.0</td>\n",
       "      <td>11.0</td>\n",
       "    </tr>\n",
       "    <tr>\n",
       "      <th>3587</th>\n",
       "      <td>Tang</td>\n",
       "      <td>6.2</td>\n",
       "      <td>96.0</td>\n",
       "      <td>595.2</td>\n",
       "      <td>39.0</td>\n",
       "      <td>29.0</td>\n",
       "      <td>10.0</td>\n",
       "      <td>61.0</td>\n",
       "      <td>7.0</td>\n",
       "    </tr>\n",
       "    <tr>\n",
       "      <th>3588</th>\n",
       "      <td>Tang</td>\n",
       "      <td>3.0</td>\n",
       "      <td>36.0</td>\n",
       "      <td>108.0</td>\n",
       "      <td>54.0</td>\n",
       "      <td>38.0</td>\n",
       "      <td>16.0</td>\n",
       "      <td>46.0</td>\n",
       "      <td>11.0</td>\n",
       "    </tr>\n",
       "  </tbody>\n",
       "</table>\n",
       "<p>3589 rows × 9 columns</p>\n",
       "</div>"
      ],
      "text/plain": [
       "       Publisher  Semen_Volume  Sperm_Concentration  Total_Number  \\\n",
       "0     Aboutorabi           3.2                 27.0          86.4   \n",
       "1     Aboutorabi           0.8                136.0         108.8   \n",
       "2     Aboutorabi           2.0                 71.0         142.0   \n",
       "3     Aboutorabi           1.0                 35.0          35.0   \n",
       "4     Aboutorabi           2.0                 46.0          92.0   \n",
       "...          ...           ...                  ...           ...   \n",
       "3584        Tang           1.7                 23.0          39.1   \n",
       "3585        Tang           2.5                110.0         275.0   \n",
       "3586        Tang           2.0                109.0         218.0   \n",
       "3587        Tang           6.2                 96.0         595.2   \n",
       "3588        Tang           3.0                 36.0         108.0   \n",
       "\n",
       "      Total_Motility  Progressive_Motility  Non-progressive_Motility  \\\n",
       "0               35.0                  20.0                      15.0   \n",
       "1               47.0                  35.0                      12.0   \n",
       "2               49.0                  42.0                       7.0   \n",
       "3               50.0                  28.0                      22.0   \n",
       "4               51.0                  28.0                      33.0   \n",
       "...              ...                   ...                       ...   \n",
       "3584            53.0                  52.0                       1.0   \n",
       "3585            66.0                  66.0                       0.0   \n",
       "3586            64.0                  44.0                      20.0   \n",
       "3587            39.0                  29.0                      10.0   \n",
       "3588            54.0                  38.0                      16.0   \n",
       "\n",
       "      Immotile_Spermatozoa  Normal_Forms  \n",
       "0                     65.0           NaN  \n",
       "1                     53.0           NaN  \n",
       "2                     51.0           NaN  \n",
       "3                     50.0           NaN  \n",
       "4                     49.0           NaN  \n",
       "...                    ...           ...  \n",
       "3584                  47.0          25.0  \n",
       "3585                  34.0          30.0  \n",
       "3586                  36.0          11.0  \n",
       "3587                  61.0           7.0  \n",
       "3588                  46.0          11.0  \n",
       "\n",
       "[3589 rows x 9 columns]"
      ]
     },
     "execution_count": 6,
     "metadata": {},
     "output_type": "execute_result"
    }
   ],
   "source": [
    "#probamos cuando tenemos total_motility y no contamos con Immotile_Spermatoza\n",
    "df['Immotile_Spermatozoa'] = df['Immotile_Spermatozoa'].fillna(100-df['Total_Motility'])\n",
    "#probamos cuando tenemos Immotile_Spermatoza y no contamos con total_motility. Despejando la formula\n",
    "df['Total_Motility'] = df['Total_Motility'].fillna(100-df['Immotile_Spermatozoa'])\n",
    "df"
   ]
  },
  {
   "cell_type": "markdown",
   "id": "1b2438e0",
   "metadata": {},
   "source": [
    "### Observamos que pudimos aumentar el valor de registros sin nulos en las columnas anteriores. Ahora contamos on 3489 registros en dichas columnas "
   ]
  },
  {
   "cell_type": "code",
   "execution_count": 7,
   "id": "616eb933",
   "metadata": {},
   "outputs": [
    {
     "name": "stdout",
     "output_type": "stream",
     "text": [
      "<class 'pandas.core.frame.DataFrame'>\n",
      "RangeIndex: 3589 entries, 0 to 3588\n",
      "Data columns (total 9 columns):\n",
      " #   Column                    Non-Null Count  Dtype  \n",
      "---  ------                    --------------  -----  \n",
      " 0   Publisher                 3589 non-null   object \n",
      " 1   Semen_Volume              3586 non-null   float64\n",
      " 2   Sperm_Concentration       3587 non-null   float64\n",
      " 3   Total_Number              3584 non-null   float64\n",
      " 4   Total_Motility            3489 non-null   float64\n",
      " 5   Progressive_Motility      3389 non-null   float64\n",
      " 6   Non-progressive_Motility  3387 non-null   float64\n",
      " 7   Immotile_Spermatozoa      3489 non-null   float64\n",
      " 8   Normal_Forms              3335 non-null   float64\n",
      "dtypes: float64(8), object(1)\n",
      "memory usage: 252.5+ KB\n"
     ]
    }
   ],
   "source": [
    "df.info()"
   ]
  },
  {
   "cell_type": "markdown",
   "id": "704b9d4f",
   "metadata": {},
   "source": [
    "### Recuperamos los valores de Progressive Motility y Non-progressive Motility pues sabemos que \n",
    "### Total_Motility = Progressive_Motility + Non-progressive_Motility\n",
    "### con el despeje de la formula podemos obtener valores de progressive y non-progressive motility"
   ]
  },
  {
   "cell_type": "code",
   "execution_count": 8,
   "id": "6e11e2ee",
   "metadata": {},
   "outputs": [],
   "source": [
    "df['Progressive_Motility'] = df['Progressive_Motility'].fillna(df['Total_Motility']-df['Non-progressive_Motility'])\n",
    "df['Non-progressive_Motility'] = df['Non-progressive_Motility'].fillna(df['Total_Motility']-df['Progressive_Motility'])"
   ]
  },
  {
   "cell_type": "code",
   "execution_count": 9,
   "id": "d72f55b5",
   "metadata": {},
   "outputs": [
    {
     "name": "stdout",
     "output_type": "stream",
     "text": [
      "<class 'pandas.core.frame.DataFrame'>\n",
      "RangeIndex: 3589 entries, 0 to 3588\n",
      "Data columns (total 9 columns):\n",
      " #   Column                    Non-Null Count  Dtype  \n",
      "---  ------                    --------------  -----  \n",
      " 0   Publisher                 3589 non-null   object \n",
      " 1   Semen_Volume              3586 non-null   float64\n",
      " 2   Sperm_Concentration       3587 non-null   float64\n",
      " 3   Total_Number              3584 non-null   float64\n",
      " 4   Total_Motility            3489 non-null   float64\n",
      " 5   Progressive_Motility      3389 non-null   float64\n",
      " 6   Non-progressive_Motility  3389 non-null   float64\n",
      " 7   Immotile_Spermatozoa      3489 non-null   float64\n",
      " 8   Normal_Forms              3335 non-null   float64\n",
      "dtypes: float64(8), object(1)\n",
      "memory usage: 252.5+ KB\n"
     ]
    }
   ],
   "source": [
    "df.info()"
   ]
  },
  {
   "cell_type": "code",
   "execution_count": 10,
   "id": "9a8cdf0b",
   "metadata": {},
   "outputs": [
    {
     "name": "stdout",
     "output_type": "stream",
     "text": [
      "<class 'pandas.core.frame.DataFrame'>\n",
      "Int64Index: 3132 entries, 169 to 3588\n",
      "Data columns (total 9 columns):\n",
      " #   Column                    Non-Null Count  Dtype  \n",
      "---  ------                    --------------  -----  \n",
      " 0   Publisher                 3132 non-null   object \n",
      " 1   Semen_Volume              3132 non-null   float64\n",
      " 2   Sperm_Concentration       3132 non-null   float64\n",
      " 3   Total_Number              3132 non-null   float64\n",
      " 4   Total_Motility            3132 non-null   float64\n",
      " 5   Progressive_Motility      3132 non-null   float64\n",
      " 6   Non-progressive_Motility  3132 non-null   float64\n",
      " 7   Immotile_Spermatozoa      3132 non-null   float64\n",
      " 8   Normal_Forms              3132 non-null   float64\n",
      "dtypes: float64(8), object(1)\n",
      "memory usage: 244.7+ KB\n"
     ]
    }
   ],
   "source": [
    "df=df.dropna()\n",
    "df.info()"
   ]
  },
  {
   "cell_type": "markdown",
   "id": "e83eb6d6",
   "metadata": {},
   "source": [
    "### Despues de llenar valores nulos con las formulas indicadas, eliminamos los registros en los cuales siguen existiendo valores nulos. El valor final de registros disponibles es de 3132."
   ]
  },
  {
   "cell_type": "markdown",
   "id": "97965ae5",
   "metadata": {},
   "source": [
    "## Fase 1: Exploracion "
   ]
  },
  {
   "cell_type": "markdown",
   "id": "f0a6f396",
   "metadata": {},
   "source": [
    "### Histograma de Normal_Forms para comprobar que ningun registro cuenta con un porcentaje debajo de 4%."
   ]
  },
  {
   "cell_type": "code",
   "execution_count": 11,
   "id": "70257dd6",
   "metadata": {},
   "outputs": [
    {
     "data": {
      "text/plain": [
       "1758     0.5\n",
       "1674     0.5\n",
       "2810     1.0\n",
       "634      1.0\n",
       "1666     1.0\n",
       "        ... \n",
       "973     54.0\n",
       "423     56.0\n",
       "1102    58.0\n",
       "2865    70.0\n",
       "2549    76.0\n",
       "Name: Normal_Forms, Length: 3132, dtype: float64"
      ]
     },
     "execution_count": 11,
     "metadata": {},
     "output_type": "execute_result"
    },
    {
     "data": {
      "image/png": "[encoded data removed]",
      "text/plain": [
       "<Figure size 432x288 with 1 Axes>"
      ]
     },
     "metadata": {
      "needs_background": "light"
     },
     "output_type": "display_data"
    }
   ],
   "source": [
    "df['Normal_Forms'].hist(bins=25)\n",
    "plt.title('Sperm Normal Forms')\n",
    "plt.xlabel('Normal Form in %')\n",
    "plt.ylabel('Count')\n",
    "df['Normal_Forms'].sort_values(ascending=True)"
   ]
  },
  {
   "cell_type": "markdown",
   "id": "233f0417",
   "metadata": {},
   "source": [
    "### Histograma de Sperm_concentration para comprobar que ningun registro cuenta con un porcentaje debajo de 15 millones de espermatozoides por mililitro."
   ]
  },
  {
   "cell_type": "code",
   "execution_count": 12,
   "id": "b09538c2",
   "metadata": {
    "scrolled": true
   },
   "outputs": [
    {
     "data": {
      "text/plain": [
       "263       1.0\n",
       "212       1.0\n",
       "169       2.0\n",
       "267       2.0\n",
       "476       2.0\n",
       "        ...  \n",
       "3294    448.0\n",
       "3528    480.0\n",
       "1144    489.0\n",
       "1016    528.0\n",
       "1026    532.0\n",
       "Name: Sperm_Concentration, Length: 3132, dtype: float64"
      ]
     },
     "execution_count": 12,
     "metadata": {},
     "output_type": "execute_result"
    },
    {
     "data": {
      "image/png": "[encoded data removed]",
      "text/plain": [
       "<Figure size 432x288 with 1 Axes>"
      ]
     },
     "metadata": {
      "needs_background": "light"
     },
     "output_type": "display_data"
    }
   ],
   "source": [
    "df['Sperm_Concentration'].hist(bins=25)\n",
    "plt.title('Sperm Concentration')\n",
    "plt.xlabel('Sperm concentration in millions per ml')\n",
    "plt.ylabel('Count')\n",
    "df['Sperm_Concentration'].sort_values()"
   ]
  },
  {
   "cell_type": "markdown",
   "id": "8c977d63",
   "metadata": {},
   "source": [
    "### Grafica de Progressive Motility vs Total Motility para comprobar que son variables directamente proporcional"
   ]
  },
  {
   "cell_type": "code",
   "execution_count": 13,
   "id": "83acb036",
   "metadata": {},
   "outputs": [
    {
     "data": {
      "text/plain": [
       "Text(0, 0.5, 'Total Motility')"
      ]
     },
     "execution_count": 13,
     "metadata": {},
     "output_type": "execute_result"
    },
    {
     "data": {
      "image/png": "[encoded data removed]",
      "text/plain": [
       "<Figure size 432x288 with 1 Axes>"
      ]
     },
     "metadata": {
      "needs_background": "light"
     },
     "output_type": "display_data"
    }
   ],
   "source": [
    "plt.scatter(df[\"Progressive_Motility\"], df[\"Total_Motility\"])\n",
    "plt.title('Progressive Motility vs Total Motility')\n",
    "plt.xlabel('Progressive Motility')\n",
    "plt.ylabel('Total Motility')"
   ]
  },
  {
   "cell_type": "markdown",
   "id": "f3a27202",
   "metadata": {},
   "source": [
    "## Fase 2: Analisis"
   ]
  },
  {
   "cell_type": "markdown",
   "id": "3b4a8ab8",
   "metadata": {},
   "source": [
    "#### Sperm_Concentration"
   ]
  },
  {
   "cell_type": "code",
   "execution_count": 14,
   "id": "848c06b5",
   "metadata": {},
   "outputs": [
    {
     "data": {
      "text/plain": [
       "Text(0, 0.5, 'Count')"
      ]
     },
     "execution_count": 14,
     "metadata": {},
     "output_type": "execute_result"
    },
    {
     "data": {
      "image/png": "[encoded data removed]",
      "text/plain": [
       "<Figure size 432x288 with 1 Axes>"
      ]
     },
     "metadata": {
      "needs_background": "light"
     },
     "output_type": "display_data"
    }
   ],
   "source": [
    "df['Sperm_Concentration'].hist(bins=25)\n",
    "plt.title('Sperm_Concentration')\n",
    "plt.xlabel('Total of sperm cells')\n",
    "plt.ylabel('Count')"
   ]
  },
  {
   "cell_type": "code",
   "execution_count": 15,
   "id": "aa7c26d1",
   "metadata": {},
   "outputs": [
    {
     "data": {
      "text/html": [
       "<div>\n",
       "<style scoped>\n",
       "    .dataframe tbody tr th:only-of-type {\n",
       "        vertical-align: middle;\n",
       "    }\n",
       "\n",
       "    .dataframe tbody tr th {\n",
       "        vertical-align: top;\n",
       "    }\n",
       "\n",
       "    .dataframe thead th {\n",
       "        text-align: right;\n",
       "    }\n",
       "</style>\n",
       "<table border=\"1\" class=\"dataframe\">\n",
       "  <thead>\n",
       "    <tr style=\"text-align: right;\">\n",
       "      <th></th>\n",
       "      <th>Variable</th>\n",
       "      <th>Media</th>\n",
       "      <th>Varianza</th>\n",
       "      <th>Desviacion estandar</th>\n",
       "      <th>Curtosis</th>\n",
       "      <th>Simetria</th>\n",
       "    </tr>\n",
       "  </thead>\n",
       "  <tbody>\n",
       "    <tr>\n",
       "      <th>0</th>\n",
       "      <td>Sperm_Concentration</td>\n",
       "      <td>79.832551</td>\n",
       "      <td>3858.080043</td>\n",
       "      <td>62.113445</td>\n",
       "      <td>6.352452</td>\n",
       "      <td>1.967984</td>\n",
       "    </tr>\n",
       "  </tbody>\n",
       "</table>\n",
       "</div>"
      ],
      "text/plain": [
       "              Variable      Media     Varianza  Desviacion estandar  Curtosis  \\\n",
       "0  Sperm_Concentration  79.832551  3858.080043            62.113445  6.352452   \n",
       "\n",
       "   Simetria  \n",
       "0  1.967984  "
      ]
     },
     "execution_count": 15,
     "metadata": {},
     "output_type": "execute_result"
    }
   ],
   "source": [
    "df_descrp = pd.DataFrame() # crear un dataframe para agregar estadisticas descriptivas\n",
    "df_descrp['Variable'] = ['Sperm_Concentration']\n",
    "df_descrp['Media'] = [df['Sperm_Concentration'].mean()]\n",
    "df_descrp['Varianza'] = [df['Sperm_Concentration'].var()]\n",
    "df_descrp['Desviacion estandar'] = [df['Sperm_Concentration'].std()]\n",
    "df_descrp['Curtosis'] = [df['Sperm_Concentration'].kurtosis()]\n",
    "df_descrp['Simetria'] = [df['Sperm_Concentration'].skew()]\n",
    "df_descrp"
   ]
  },
  {
   "cell_type": "code",
   "execution_count": 16,
   "id": "552feae0",
   "metadata": {},
   "outputs": [
    {
     "data": {
      "text/plain": [
       "KstestResult(statistic=0.997692658341771, pvalue=0.0)"
      ]
     },
     "execution_count": 16,
     "metadata": {},
     "output_type": "execute_result"
    }
   ],
   "source": [
    "#ejecutar prueba Kolmogorov-Smirnov para verificar si tiene distribucion normal\n",
    "kstest(df['Sperm_Concentration'], 'norm')"
   ]
  },
  {
   "cell_type": "markdown",
   "id": "74939138",
   "metadata": {},
   "source": [
    "### Con un valor p de 0.0 menor a 0.05 tenemos suficiente evidencia para rechazar la hipotesis nula y concluir que no contamos con una distribucion normal."
   ]
  },
  {
   "cell_type": "code",
   "execution_count": 17,
   "id": "e78ea129",
   "metadata": {},
   "outputs": [
    {
     "data": {
      "text/plain": [
       "AndersonResult(statistic=106.94620295901859, critical_values=array([0.575, 0.655, 0.786, 0.917, 1.091]), significance_level=array([15. , 10. ,  5. ,  2.5,  1. ]))"
      ]
     },
     "execution_count": 17,
     "metadata": {},
     "output_type": "execute_result"
    }
   ],
   "source": [
    "#prueba de anderson darling para verificar normalidad de los datos \n",
    "anderson(df['Sperm_Concentration'], 'norm')"
   ]
  },
  {
   "cell_type": "markdown",
   "id": "ebd97d35",
   "metadata": {},
   "source": [
    "### Concluir del test"
   ]
  },
  {
   "cell_type": "markdown",
   "id": "d6cfe845",
   "metadata": {},
   "source": [
    "# Best Distribution"
   ]
  },
  {
   "cell_type": "code",
   "execution_count": 18,
   "id": "ac5dc1db",
   "metadata": {},
   "outputs": [
    {
     "data": {
      "text/plain": [
       "<seaborn.axisgrid.FacetGrid at 0x7f94a03b4730>"
      ]
     },
     "execution_count": 18,
     "metadata": {},
     "output_type": "execute_result"
    },
    {
     "data": {
      "image/png": "[encoded data removed]",
      "text/plain": [
       "<Figure size 1080x360 with 1 Axes>"
      ]
     },
     "metadata": {},
     "output_type": "display_data"
    }
   ],
   "source": [
    "#Primero lo plotteamos limpio\n",
    "sns.set_style('white')\n",
    "sns.set_context(\"paper\", font_scale = 2)\n",
    "sns.displot(data=df['Sperm_Concentration'], kind=\"hist\", bins = 50, aspect = 3)"
   ]
  },
  {
   "cell_type": "code",
   "execution_count": 19,
   "id": "623f4d70",
   "metadata": {},
   "outputs": [
    {
     "name": "stderr",
     "output_type": "stream",
     "text": [
      "Fitting 3 distributions: 100%|████████████████████| 3/3 [00:00<00:00, 36.41it/s]\n"
     ]
    },
    {
     "data": {
      "text/html": [
       "<div>\n",
       "<style scoped>\n",
       "    .dataframe tbody tr th:only-of-type {\n",
       "        vertical-align: middle;\n",
       "    }\n",
       "\n",
       "    .dataframe tbody tr th {\n",
       "        vertical-align: top;\n",
       "    }\n",
       "\n",
       "    .dataframe thead th {\n",
       "        text-align: right;\n",
       "    }\n",
       "</style>\n",
       "<table border=\"1\" class=\"dataframe\">\n",
       "  <thead>\n",
       "    <tr style=\"text-align: right;\">\n",
       "      <th></th>\n",
       "      <th>sumsquare_error</th>\n",
       "      <th>aic</th>\n",
       "      <th>bic</th>\n",
       "      <th>kl_div</th>\n",
       "      <th>ks_statistic</th>\n",
       "      <th>ks_pvalue</th>\n",
       "    </tr>\n",
       "  </thead>\n",
       "  <tbody>\n",
       "    <tr>\n",
       "      <th>norm</th>\n",
       "      <td>0.000258</td>\n",
       "      <td>2526.159952</td>\n",
       "      <td>-51068.077220</td>\n",
       "      <td>inf</td>\n",
       "      <td>0.122701</td>\n",
       "      <td>1.487839e-41</td>\n",
       "    </tr>\n",
       "    <tr>\n",
       "      <th>uniform</th>\n",
       "      <td>0.000915</td>\n",
       "      <td>1258.952404</td>\n",
       "      <td>-47107.320181</td>\n",
       "      <td>inf</td>\n",
       "      <td>0.608411</td>\n",
       "      <td>0.000000e+00</td>\n",
       "    </tr>\n",
       "    <tr>\n",
       "      <th>gamma</th>\n",
       "      <td>0.003227</td>\n",
       "      <td>25004.280813</td>\n",
       "      <td>-43152.207405</td>\n",
       "      <td>inf</td>\n",
       "      <td>0.981843</td>\n",
       "      <td>0.000000e+00</td>\n",
       "    </tr>\n",
       "  </tbody>\n",
       "</table>\n",
       "</div>"
      ],
      "text/plain": [
       "         sumsquare_error           aic           bic  kl_div  ks_statistic  \\\n",
       "norm            0.000258   2526.159952 -51068.077220     inf      0.122701   \n",
       "uniform         0.000915   1258.952404 -47107.320181     inf      0.608411   \n",
       "gamma           0.003227  25004.280813 -43152.207405     inf      0.981843   \n",
       "\n",
       "            ks_pvalue  \n",
       "norm     1.487839e-41  \n",
       "uniform  0.000000e+00  \n",
       "gamma    0.000000e+00  "
      ]
     },
     "execution_count": 19,
     "metadata": {},
     "output_type": "execute_result"
    },
    {
     "data": {
      "image/png": "[encoded data removed]",
      "text/plain": [
       "<Figure size 432x288 with 1 Axes>"
      ]
     },
     "metadata": {},
     "output_type": "display_data"
    }
   ],
   "source": [
    "Fitter(df['Sperm_Concentration'])\n",
    "f = Fitter(df['Sperm_Concentration'],\n",
    "           distributions=['gamma',\n",
    "                          \"norm\",\n",
    "                         \"uniform\",\n",
    "                         ])\n",
    "f.fit()\n",
    "f.summary()"
   ]
  },
  {
   "cell_type": "code",
   "execution_count": 20,
   "id": "88b57a2d",
   "metadata": {},
   "outputs": [
    {
     "name": "stderr",
     "output_type": "stream",
     "text": [
      "Fitting 4 distributions: 100%|████████████████████| 4/4 [00:00<00:00, 21.41it/s]\n"
     ]
    },
    {
     "data": {
      "text/html": [
       "<div>\n",
       "<style scoped>\n",
       "    .dataframe tbody tr th:only-of-type {\n",
       "        vertical-align: middle;\n",
       "    }\n",
       "\n",
       "    .dataframe tbody tr th {\n",
       "        vertical-align: top;\n",
       "    }\n",
       "\n",
       "    .dataframe thead th {\n",
       "        text-align: right;\n",
       "    }\n",
       "</style>\n",
       "<table border=\"1\" class=\"dataframe\">\n",
       "  <thead>\n",
       "    <tr style=\"text-align: right;\">\n",
       "      <th></th>\n",
       "      <th>sumsquare_error</th>\n",
       "      <th>aic</th>\n",
       "      <th>bic</th>\n",
       "      <th>kl_div</th>\n",
       "      <th>ks_statistic</th>\n",
       "      <th>ks_pvalue</th>\n",
       "    </tr>\n",
       "  </thead>\n",
       "  <tbody>\n",
       "    <tr>\n",
       "      <th>dweibull</th>\n",
       "      <td>0.000182</td>\n",
       "      <td>1923.627818</td>\n",
       "      <td>-52155.192781</td>\n",
       "      <td>inf</td>\n",
       "      <td>0.121156</td>\n",
       "      <td>1.602035e-40</td>\n",
       "    </tr>\n",
       "    <tr>\n",
       "      <th>expon</th>\n",
       "      <td>0.000293</td>\n",
       "      <td>1551.044822</td>\n",
       "      <td>-50678.446502</td>\n",
       "      <td>inf</td>\n",
       "      <td>0.144887</td>\n",
       "      <td>7.685615e-58</td>\n",
       "    </tr>\n",
       "    <tr>\n",
       "      <th>pareto</th>\n",
       "      <td>0.000294</td>\n",
       "      <td>1554.244283</td>\n",
       "      <td>-50656.500355</td>\n",
       "      <td>inf</td>\n",
       "      <td>0.145462</td>\n",
       "      <td>2.673306e-58</td>\n",
       "    </tr>\n",
       "    <tr>\n",
       "      <th>lognorm</th>\n",
       "      <td>0.002102</td>\n",
       "      <td>1654.087658</td>\n",
       "      <td>-44494.597972</td>\n",
       "      <td>inf</td>\n",
       "      <td>0.638010</td>\n",
       "      <td>0.000000e+00</td>\n",
       "    </tr>\n",
       "  </tbody>\n",
       "</table>\n",
       "</div>"
      ],
      "text/plain": [
       "          sumsquare_error          aic           bic  kl_div  ks_statistic  \\\n",
       "dweibull         0.000182  1923.627818 -52155.192781     inf      0.121156   \n",
       "expon            0.000293  1551.044822 -50678.446502     inf      0.144887   \n",
       "pareto           0.000294  1554.244283 -50656.500355     inf      0.145462   \n",
       "lognorm          0.002102  1654.087658 -44494.597972     inf      0.638010   \n",
       "\n",
       "             ks_pvalue  \n",
       "dweibull  1.602035e-40  \n",
       "expon     7.685615e-58  \n",
       "pareto    2.673306e-58  \n",
       "lognorm   0.000000e+00  "
      ]
     },
     "execution_count": 20,
     "metadata": {},
     "output_type": "execute_result"
    },
    {
     "data": {
      "image/png": "[encoded data removed]",
      "text/plain": [
       "<Figure size 432x288 with 1 Axes>"
      ]
     },
     "metadata": {},
     "output_type": "display_data"
    }
   ],
   "source": [
    "Fitter(df['Sperm_Concentration'])\n",
    "f = Fitter(df['Sperm_Concentration'],\n",
    "           distributions=[\n",
    "                         \"expon\",\n",
    "                         \"dweibull\",\n",
    "                         \"lognorm\",\n",
    "                         \"pareto\"])\n",
    "f.fit()\n",
    "f.summary()"
   ]
  },
  {
   "cell_type": "code",
   "execution_count": 21,
   "id": "38714fdd",
   "metadata": {},
   "outputs": [
    {
     "name": "stderr",
     "output_type": "stream",
     "text": [
      "Fitting 3 distributions:   0%|                            | 0/3 [00:00<?, ?it/s]WARNING:root:SKIPPED bernoulli distribution (taking more than 30 seconds)\n",
      "Fitting 3 distributions: 100%|████████████████████| 3/3 [00:00<00:00, 18.76it/s]\n",
      "WARNING:fitter.fitter:bernoulli was not fitted. no parameters available\n"
     ]
    },
    {
     "data": {
      "text/html": [
       "<div>\n",
       "<style scoped>\n",
       "    .dataframe tbody tr th:only-of-type {\n",
       "        vertical-align: middle;\n",
       "    }\n",
       "\n",
       "    .dataframe tbody tr th {\n",
       "        vertical-align: top;\n",
       "    }\n",
       "\n",
       "    .dataframe thead th {\n",
       "        text-align: right;\n",
       "    }\n",
       "</style>\n",
       "<table border=\"1\" class=\"dataframe\">\n",
       "  <thead>\n",
       "    <tr style=\"text-align: right;\">\n",
       "      <th></th>\n",
       "      <th>sumsquare_error</th>\n",
       "      <th>aic</th>\n",
       "      <th>bic</th>\n",
       "      <th>kl_div</th>\n",
       "      <th>ks_statistic</th>\n",
       "      <th>ks_pvalue</th>\n",
       "    </tr>\n",
       "  </thead>\n",
       "  <tbody>\n",
       "    <tr>\n",
       "      <th>beta</th>\n",
       "      <td>0.000054</td>\n",
       "      <td>1740.505192</td>\n",
       "      <td>-5.594911e+04</td>\n",
       "      <td>inf</td>\n",
       "      <td>0.032707</td>\n",
       "      <td>2.403435e-03</td>\n",
       "    </tr>\n",
       "    <tr>\n",
       "      <th>t</th>\n",
       "      <td>0.000174</td>\n",
       "      <td>1768.777039</td>\n",
       "      <td>-5.229723e+04</td>\n",
       "      <td>inf</td>\n",
       "      <td>0.107188</td>\n",
       "      <td>8.633101e-32</td>\n",
       "    </tr>\n",
       "    <tr>\n",
       "      <th>bernoulli</th>\n",
       "      <td>inf</td>\n",
       "      <td>inf</td>\n",
       "      <td>inf</td>\n",
       "      <td>inf</td>\n",
       "      <td>NaN</td>\n",
       "      <td>NaN</td>\n",
       "    </tr>\n",
       "  </tbody>\n",
       "</table>\n",
       "</div>"
      ],
      "text/plain": [
       "           sumsquare_error          aic           bic  kl_div  ks_statistic  \\\n",
       "beta              0.000054  1740.505192 -5.594911e+04     inf      0.032707   \n",
       "t                 0.000174  1768.777039 -5.229723e+04     inf      0.107188   \n",
       "bernoulli              inf          inf           inf     inf           NaN   \n",
       "\n",
       "              ks_pvalue  \n",
       "beta       2.403435e-03  \n",
       "t          8.633101e-32  \n",
       "bernoulli           NaN  "
      ]
     },
     "execution_count": 21,
     "metadata": {},
     "output_type": "execute_result"
    },
    {
     "data": {
      "image/png": "[encoded data removed]",
      "text/plain": [
       "<Figure size 432x288 with 1 Axes>"
      ]
     },
     "metadata": {},
     "output_type": "display_data"
    }
   ],
   "source": [
    "Fitter(df['Sperm_Concentration'])\n",
    "f = Fitter(df['Sperm_Concentration'],\n",
    "           distributions=[\n",
    "                         \"beta\",\n",
    "                           \"t\",\n",
    "                           \"bernoulli\"])\n",
    "f.fit()\n",
    "f.summary()"
   ]
  },
  {
   "cell_type": "code",
   "execution_count": 22,
   "id": "7e964d75",
   "metadata": {},
   "outputs": [
    {
     "data": {
      "text/plain": [
       "{'beta': {'a': 1.8715800118478425,\n",
       "  'b': 37123080.61551016,\n",
       "  'loc': 0.7219686279350515,\n",
       "  'scale': 1562222886.2104893}}"
      ]
     },
     "execution_count": 22,
     "metadata": {},
     "output_type": "execute_result"
    }
   ],
   "source": [
    "f.get_best(method = 'sumsquare_error')"
   ]
  },
  {
   "cell_type": "markdown",
   "id": "3f020fba",
   "metadata": {},
   "source": [
    "## Datos Atipicos"
   ]
  },
  {
   "cell_type": "code",
   "execution_count": 23,
   "id": "cc930a50",
   "metadata": {},
   "outputs": [
    {
     "data": {
      "text/plain": [
       "{'whiskers': [<matplotlib.lines.Line2D at 0x7f94b0ac9b80>,\n",
       "  <matplotlib.lines.Line2D at 0x7f94b0ac9e50>],\n",
       " 'caps': [<matplotlib.lines.Line2D at 0x7f94b0ad9160>,\n",
       "  <matplotlib.lines.Line2D at 0x7f94b0ad9430>],\n",
       " 'boxes': [<matplotlib.lines.Line2D at 0x7f94b0ac98b0>],\n",
       " 'medians': [<matplotlib.lines.Line2D at 0x7f94b0ad9730>],\n",
       " 'fliers': [<matplotlib.lines.Line2D at 0x7f94b0ad9a00>],\n",
       " 'means': []}"
      ]
     },
     "execution_count": 23,
     "metadata": {},
     "output_type": "execute_result"
    },
    {
     "data": {
      "image/png": "[encoded data removed]",
      "text/plain": [
       "<Figure size 432x288 with 1 Axes>"
      ]
     },
     "metadata": {},
     "output_type": "display_data"
    }
   ],
   "source": [
    "plt.boxplot(df['Sperm_Concentration'])"
   ]
  },
  {
   "cell_type": "code",
   "execution_count": 24,
   "id": "aaf165fc",
   "metadata": {},
   "outputs": [
    {
     "data": {
      "text/plain": [
       "532.0"
      ]
     },
     "execution_count": 24,
     "metadata": {},
     "output_type": "execute_result"
    }
   ],
   "source": [
    "df['Sperm_Concentration'].max()"
   ]
  },
  {
   "cell_type": "code",
   "execution_count": 25,
   "id": "7baf87ed",
   "metadata": {},
   "outputs": [
    {
     "data": {
      "text/plain": [
       "array([0., 0., 0., ..., 0., 0., 0.])"
      ]
     },
     "execution_count": 25,
     "metadata": {},
     "output_type": "execute_result"
    }
   ],
   "source": [
    "beta.pdf(df['Sperm_Concentration'],1.8715800118478425 , 37123080.61551016)"
   ]
  },
  {
   "cell_type": "code",
   "execution_count": 26,
   "id": "ba8d9a0f",
   "metadata": {},
   "outputs": [
    {
     "data": {
      "text/plain": [
       "<scipy.stats._distn_infrastructure.rv_frozen at 0x7f9484b706a0>"
      ]
     },
     "execution_count": 26,
     "metadata": {},
     "output_type": "execute_result"
    }
   ],
   "source": [
    "dist = beta(1.8715800118478425 , 37123080.61551016)\n",
    "dist"
   ]
  },
  {
   "cell_type": "code",
   "execution_count": 36,
   "id": "46879c3e",
   "metadata": {},
   "outputs": [],
   "source": [
    "df2 = df['Sperm_Concentration'].loc[:].div(1000)\n",
    "\n"
   ]
  },
  {
   "cell_type": "code",
   "execution_count": 37,
   "id": "c408819b",
   "metadata": {},
   "outputs": [
    {
     "data": {
      "text/plain": [
       "169     0.002\n",
       "170     0.009\n",
       "171     0.037\n",
       "172     0.011\n",
       "173     0.159\n",
       "        ...  \n",
       "3584    0.023\n",
       "3585    0.110\n",
       "3586    0.109\n",
       "3587    0.096\n",
       "3588    0.036\n",
       "Name: Sperm_Concentration, Length: 3132, dtype: float64"
      ]
     },
     "execution_count": 37,
     "metadata": {},
     "output_type": "execute_result"
    }
   ],
   "source": [
    "df2"
   ]
  },
  {
   "cell_type": "code",
   "execution_count": 43,
   "id": "5ed77a6e",
   "metadata": {},
   "outputs": [],
   "source": [
    "x = beta.pdf(df2,1.8715800118478425 , 37123080.61551016)"
   ]
  },
  {
   "cell_type": "code",
   "execution_count": 46,
   "id": "f9bb5ef4",
   "metadata": {},
   "outputs": [
    {
     "data": {
      "image/png": "[encoded data removed]",
      "text/plain": [
       "<Figure size 432x288 with 1 Axes>"
      ]
     },
     "metadata": {},
     "output_type": "display_data"
    }
   ],
   "source": [
    "fig, ax = plt.subplots(1, 1)\n"
   ]
  },
  {
   "cell_type": "code",
   "execution_count": 47,
   "id": "95c9113c",
   "metadata": {},
   "outputs": [
    {
     "data": {
      "text/plain": [
       "[<matplotlib.lines.Line2D at 0x7f94a0716eb0>]"
      ]
     },
     "execution_count": 47,
     "metadata": {},
     "output_type": "execute_result"
    }
   ],
   "source": [
    "rv = beta(1.8715800118478425 , 37123080.61551016)\n",
    "ax.plot(df2, rv.pdf(x), 'k-', lw=2, label='frozen pdf')\n"
   ]
  },
  {
   "cell_type": "code",
   "execution_count": 48,
   "id": "a10e40f1",
   "metadata": {},
   "outputs": [],
   "source": [
    "a, b = 1.8715800118478425 , 37123080.61551016\n",
    "mean, var, skew, kurt = beta.stats(a, b, moments='mvsk')"
   ]
  },
  {
   "cell_type": "code",
   "execution_count": 49,
   "id": "22b37a48",
   "metadata": {},
   "outputs": [
    {
     "data": {
      "text/plain": [
       "(array(5.04155336e-08),\n",
       " array(1.35806421e-15),\n",
       " array(1.4619272),\n",
       " array(3.20584645))"
      ]
     },
     "execution_count": 49,
     "metadata": {},
     "output_type": "execute_result"
    }
   ],
   "source": [
    "mean, var, skew, kurt"
   ]
  },
  {
   "cell_type": "code",
   "execution_count": 50,
   "id": "77197d66",
   "metadata": {},
   "outputs": [
    {
     "data": {
      "text/plain": [
       "array(5.04155336e-08)"
      ]
     },
     "execution_count": 50,
     "metadata": {},
     "output_type": "execute_result"
    }
   ],
   "source": [
    "mean"
   ]
  },
  {
   "cell_type": "code",
   "execution_count": null,
   "id": "450e9669",
   "metadata": {},
   "outputs": [],
   "source": []
  }
 ],
 "metadata": {
  "kernelspec": {
   "display_name": "Python 3 (ipykernel)",
   "language": "python",
   "name": "python3"
  },
  "language_info": {
   "codemirror_mode": {
    "name": "ipython",
    "version": 3
   },
   "file_extension": ".py",
   "mimetype": "text/x-python",
   "name": "python",
   "nbconvert_exporter": "python",
   "pygments_lexer": "ipython3",
   "version": "3.9.12"
  }
 },
 "nbformat": 4,
 "nbformat_minor": 5
}
